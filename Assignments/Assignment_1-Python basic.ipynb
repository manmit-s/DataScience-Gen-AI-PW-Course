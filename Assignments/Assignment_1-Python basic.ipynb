{
  "nbformat": 4,
  "nbformat_minor": 0,
  "metadata": {
    "colab": {
      "provenance": []
    },
    "kernelspec": {
      "name": "python3",
      "display_name": "Python 3"
    },
    "language_info": {
      "name": "python"
    }
  },
  "cells": [
    {
      "cell_type": "markdown",
      "source": [
        "1. What is Python, and why is it popular ?\n",
        "  - Python is a high-level, interpreted programming language known for its simplicity and readability.\n",
        "  - It is very popular because of its libraries, frameworks and use cases in various domains like Data Science, Machine Learning, Artificial Intelligence, etc.\n",
        "  ------------\n",
        "2.  What is an interpreter in Python ?\n",
        "  - Interpreter is a program that directly executes Python code line by line.\n",
        "  ------------\n",
        "3. What are pre-defined keywords in Python ?\n",
        "  - Pre-defined keywords are set of reserved words that already have a different meaning in this language, and they cannot be used as variable names, or identifiers.\n",
        "\n",
        "    - False, class, from, or, None, continue, global, pass\n",
        "    - True, def, if, raise, and, del, import, return, as, elif, try\n",
        "    - assert, else, is, while, async, except, lambda, with\n",
        "    - await, finally, nonlocal, yield, break, for, not                 \n",
        "  ------------\n",
        "4. Can keywords be used as variable names.\n",
        "  - No, because using pre-defined keywords as variable names will cause syntax errors, as they already have a predefined meaning.\n",
        "  ------------\n",
        "5. What is mutability in Python ?\n",
        "  - Mutability in simple terms mean, they can be modified even after declaration and assignment.\n",
        "  - Like lists are mutable, that means lists are modifiable allowing us to insert or remove elements within them.\n",
        "  ------------\n",
        "6. Why are lists mutable, but tuples are immutable ?\n",
        "  - Lists are mutable while Tuples are immutable, due to the type of data they are meant to hold in them.\n",
        "  - Like Lists are meant to hold dynamic data, and allows corresponding modifications even after assignment of data.\n",
        "  - While, Tuples are meant to hold fixed data, and they don't allow any modifications.\n",
        "  ------------\n",
        "7. What is the difference between “==” and “is” operators in Python ?\n",
        "  - \"==\" checks if the values are equal.\n",
        "  - \"is\" checks whether the objects have same memory address.\n",
        "  ------------\n",
        "8. What are logical operators in Python ?\n",
        "  - Logical operators are types of operators that involve in formation of Conditional Statements.\n",
        "  - Eg: and, or, not.\n",
        "  ------------\n",
        "9. What is type casting in Python ?\n",
        "  - Type Casting is a process of converting one data type to another, particularly string representation of a number into integer/float.\n",
        "  ------------\n",
        "10. What is the difference between implicit and explicit type casting ?\n",
        "  - Implicit type casting: It is automatically done by Python when there is o risk of data loss.\n",
        "  - Explicit type casting: It is a manual way to type caste using funtions like int(), float(), etc.\n",
        "  ------------\n",
        "11. What is the purpose of conditional statements in Python ?\n",
        "  - Conditional Statements are meant to control the flow of the program. And executing certain block of code under particular condition.\n",
        "  - if, elif, else.\n",
        "  ------------\n",
        "12. How does the elif statement work ?\n",
        "  - elif statement are for checking additional conditions.\n",
        "  - ```python\n",
        "if age < 10:\n",
        "    print(\"Kid\")\n",
        "elif age > 10 and age < 18:\n",
        "    print(\"Teenager\")\n",
        "elif age > 18 and age < 50:\n",
        "    print(\"Adult\")\n",
        "else:\n",
        "    print(\"Old\")\n",
        "```\n",
        "  ------------\n",
        "13. What is the difference between for and while loops ?\n",
        "  - for Loop:\n",
        "      - It is used when you know how many times to iterate.\n",
        "      - ```python\n",
        "      for i in range(5):\n",
        "      print(i)\n",
        "     ```\n",
        "  - while Loop:\n",
        "      - Used when you don't know in advance how many times to iterate.\n",
        "      - ```python\n",
        "        i = 0\n",
        "        while i < 5:\n",
        "            print(i)\n",
        "            i += 1\n",
        "       ```\n",
        "  ------------\n",
        "14. Describe a scenario where a while loop is more suitable than a for loop.\n",
        "  - A scenario could be, we want user to enter password over and over again till the user enters correct password.\n",
        "  - So, the user will might type wrong password as many times required and he will not get the access until he enters the correct password.\n",
        "  ------------"
      ],
      "metadata": {
        "id": "mEAzB29Wt2qI"
      }
    },
    {
      "cell_type": "code",
      "source": [
        "# 1. Write a Python program to print \"Hello, World!\n",
        "print(\"Hello, World!\")"
      ],
      "metadata": {
        "colab": {
          "base_uri": "https://localhost:8080/"
        },
        "id": "XEIY_dcvG7m0",
        "outputId": "133a0631-c512-4ef4-8bdb-6d34bf5b397e"
      },
      "execution_count": 3,
      "outputs": [
        {
          "output_type": "stream",
          "name": "stdout",
          "text": [
            "Hello, World!\n"
          ]
        }
      ]
    },
    {
      "cell_type": "code",
      "source": [
        "# 2. Write a Python program that displays your name and age.\n",
        "name = \"Manmit\"\n",
        "age = 18\n",
        "print(f\"Name: {name}\")\n",
        "print(f\"Age: {age}\")"
      ],
      "metadata": {
        "colab": {
          "base_uri": "https://localhost:8080/"
        },
        "id": "VDZ5HpUIHDQM",
        "outputId": "fc621a7d-d6a5-41be-de90-0398f1754e18"
      },
      "execution_count": 9,
      "outputs": [
        {
          "output_type": "stream",
          "name": "stdout",
          "text": [
            "Name: Manmit\n",
            "Age: 18\n"
          ]
        }
      ]
    },
    {
      "cell_type": "code",
      "source": [
        "# 3. Write code to print all the pre-defined keywords in Python using the keyword library.\n",
        "help('keywords')"
      ],
      "metadata": {
        "colab": {
          "base_uri": "https://localhost:8080/"
        },
        "id": "cOfvbNUgH_sl",
        "outputId": "530c8837-ef0e-441d-c96f-3af324afe052"
      },
      "execution_count": 11,
      "outputs": [
        {
          "output_type": "stream",
          "name": "stdout",
          "text": [
            "\n",
            "Here is a list of the Python keywords.  Enter any keyword to get more help.\n",
            "\n",
            "False               class               from                or\n",
            "None                continue            global              pass\n",
            "True                def                 if                  raise\n",
            "and                 del                 import              return\n",
            "as                  elif                in                  try\n",
            "assert              else                is                  while\n",
            "async               except              lambda              with\n",
            "await               finally             nonlocal            yield\n",
            "break               for                 not                 \n",
            "\n"
          ]
        }
      ]
    },
    {
      "cell_type": "code",
      "source": [
        "# 4. Write a program that checks if a given word is a Python keyword.\n",
        "pythonKeywords = [\"False\", \"None\", \"True\", \"and\", \"as\", \"assert\", \"async\", \"await\",\n",
        "    \"break\", \"class\", \"continue\", \"def\", \"del\", \"elif\", \"else\", \"except\",\n",
        "    \"finally\", \"for\", \"from\", \"global\", \"if\", \"import\", \"in\", \"is\",\n",
        "    \"lambda\", \"nonlocal\", \"not\", \"or\", \"pass\", \"raise\", \"return\",\n",
        "    \"try\", \"while\", \"with\", \"yield\"]\n",
        "\n",
        "word = input(\"Enter a word: \")\n",
        "if(word in pythonKeywords):\n",
        "    print(\"The given word is a Python keyword.\")\n",
        "else:\n",
        "  print(\"The given word is not a Python keyword.\")"
      ],
      "metadata": {
        "colab": {
          "base_uri": "https://localhost:8080/"
        },
        "id": "T2E-idvaIK6U",
        "outputId": "7993a11f-db74-41f2-fd18-c31dfc354ca1"
      },
      "execution_count": 13,
      "outputs": [
        {
          "output_type": "stream",
          "name": "stdout",
          "text": [
            "Enter a word: class\n",
            "The given word is a Python keyword.\n"
          ]
        }
      ]
    },
    {
      "cell_type": "code",
      "source": [
        "# 5. Create a list and tuple in Python, and demonstrate how attempting to change an element works differently for each.\n",
        "myList = [10, 20, 30]\n",
        "print(\"Original list: \", myList)\n",
        "myList[1] = 24\n",
        "print(\"Modified list: \", myList) # it will print modified list without any error\n",
        "\n",
        "myTuple = (10, 20, 30)\n",
        "print(\"Original tuple: \", myTuple)\n",
        "myTuple[1] = 24 # it will throw error in this line\n",
        "print(\"Modified tuple: \", myTuple)"
      ],
      "metadata": {
        "colab": {
          "base_uri": "https://localhost:8080/",
          "height": 245
        },
        "id": "SmV154jGJ-7W",
        "outputId": "a9a7e712-289f-4b68-c4d6-6357e6a2ac9f"
      },
      "execution_count": 14,
      "outputs": [
        {
          "output_type": "stream",
          "name": "stdout",
          "text": [
            "Original list:  [10, 20, 30]\n",
            "Modified list:  [10, 24, 30]\n",
            "Original tuple:  (10, 20, 30)\n"
          ]
        },
        {
          "output_type": "error",
          "ename": "TypeError",
          "evalue": "'tuple' object does not support item assignment",
          "traceback": [
            "\u001b[0;31m---------------------------------------------------------------------------\u001b[0m",
            "\u001b[0;31mTypeError\u001b[0m                                 Traceback (most recent call last)",
            "\u001b[0;32m<ipython-input-14-ae27787a6ea1>\u001b[0m in \u001b[0;36m<cell line: 0>\u001b[0;34m()\u001b[0m\n\u001b[1;32m      7\u001b[0m \u001b[0mmyTuple\u001b[0m \u001b[0;34m=\u001b[0m \u001b[0;34m(\u001b[0m\u001b[0;36m10\u001b[0m\u001b[0;34m,\u001b[0m \u001b[0;36m20\u001b[0m\u001b[0;34m,\u001b[0m \u001b[0;36m30\u001b[0m\u001b[0;34m)\u001b[0m\u001b[0;34m\u001b[0m\u001b[0;34m\u001b[0m\u001b[0m\n\u001b[1;32m      8\u001b[0m \u001b[0mprint\u001b[0m\u001b[0;34m(\u001b[0m\u001b[0;34m\"Original tuple: \"\u001b[0m\u001b[0;34m,\u001b[0m \u001b[0mmyTuple\u001b[0m\u001b[0;34m)\u001b[0m\u001b[0;34m\u001b[0m\u001b[0;34m\u001b[0m\u001b[0m\n\u001b[0;32m----> 9\u001b[0;31m \u001b[0mmyTuple\u001b[0m\u001b[0;34m[\u001b[0m\u001b[0;36m1\u001b[0m\u001b[0;34m]\u001b[0m \u001b[0;34m=\u001b[0m \u001b[0;36m24\u001b[0m \u001b[0;31m# it will throw error in this line\u001b[0m\u001b[0;34m\u001b[0m\u001b[0;34m\u001b[0m\u001b[0m\n\u001b[0m\u001b[1;32m     10\u001b[0m \u001b[0mprint\u001b[0m\u001b[0;34m(\u001b[0m\u001b[0;34m\"Modified tuple: \"\u001b[0m\u001b[0;34m,\u001b[0m \u001b[0mmyTuple\u001b[0m\u001b[0;34m)\u001b[0m\u001b[0;34m\u001b[0m\u001b[0;34m\u001b[0m\u001b[0m\n",
            "\u001b[0;31mTypeError\u001b[0m: 'tuple' object does not support item assignment"
          ]
        }
      ]
    },
    {
      "cell_type": "code",
      "source": [
        "# 6. Write a function to demonstrate the behavior of mutable and immutable arguments.\n",
        "\n",
        "def modifyArguments(mutable_list, immutable_number):\n",
        "    mutable_list.append(100)\n",
        "\n",
        "    # I am attempting to modify the immutable number\n",
        "    immutable_number += 10\n",
        "\n",
        "    print(\"I am inside function!\")\n",
        "    print(\"Mutable List: \", mutable_list)\n",
        "    print(\"Immutable Number: \", immutable_number)\n",
        "\n",
        "# Initial values\n",
        "my_list = [1, 2, 3]\n",
        "my_number = 50\n",
        "\n",
        "print(\"Before function call:\")\n",
        "print(\"Mutable List: \", my_list)\n",
        "print(\"Immutable Number: \", my_number)\n",
        "\n",
        "# Call the function\n",
        "modifyArguments(my_list, my_number)\n",
        "\n",
        "print(\"After function call:\")\n",
        "print(\"Mutable List:\", my_list)  # List is after fn call modified\n",
        "print(\"Immutable Number:\", my_number)  # Number remains unchanged"
      ],
      "metadata": {
        "colab": {
          "base_uri": "https://localhost:8080/"
        },
        "id": "jTse8wB5LFU9",
        "outputId": "05631c20-c40d-4aa9-d10d-b7245a0ec7a8"
      },
      "execution_count": 1,
      "outputs": [
        {
          "output_type": "stream",
          "name": "stdout",
          "text": [
            "Before function call:\n",
            "Mutable List:  [1, 2, 3]\n",
            "Immutable Number:  50\n",
            "I am inside function!\n",
            "Mutable List:  [1, 2, 3, 100]\n",
            "Immutable Number:  60\n",
            "After function call:\n",
            "Mutable List: [1, 2, 3, 100]\n",
            "Immutable Number: 50\n"
          ]
        }
      ]
    },
    {
      "cell_type": "code",
      "source": [
        "# 7.  Write a program that performs basic arithmetic operations on two user-input numbers.\n",
        "num1 = int(input(\"Enter 1st number: \"))\n",
        "num2 = int(input(\"Enter 2nd number: \"))\n",
        "print(\"|| Arithmetic Operations ||\")\n",
        "print(\"Sum: \", (num1 + num2))\n",
        "print(\"Difference: \", (num1 - num2))\n",
        "print(\"Product: \", (num1 * num2))\n",
        "print(\"Quotient: \", (num1 / num2))"
      ],
      "metadata": {
        "colab": {
          "base_uri": "https://localhost:8080/"
        },
        "id": "US0LSK-V4XqG",
        "outputId": "2fcc3121-92b5-4900-ccd9-65dbc768e304"
      },
      "execution_count": 3,
      "outputs": [
        {
          "output_type": "stream",
          "name": "stdout",
          "text": [
            "Enter 1st number: 3\n",
            "Enter 2nd number: 2\n",
            "|| Arithmetic Operations ||\n",
            "Sum:  5\n",
            "Difference:  1\n",
            "Product:  6\n",
            "Quotient:  1.5\n"
          ]
        }
      ]
    },
    {
      "cell_type": "code",
      "source": [
        "# 8. Write a program to demonstrate the use of logical operators.\n",
        "s1 = 3\n",
        "s2 = 4\n",
        "s3 = 5\n",
        "if(s1+s2 > s3 and s2+s3 > s1 and s3+s1 > s2):\n",
        "  print(\"The triangle is a valid triangle.\")\n",
        "  if(s1 == s2 == s3):\n",
        "    print(\"The triangle formed is an equilateral triangle.\")\n",
        "  elif(s1 != s2 and s2 != s3 and s1 != s3):\n",
        "    print(\"The triangle formed is a scalene triangle.\")\n",
        "  else:\n",
        "    print(\"The triangle formed is an isosceles triangle.\")\n",
        "else:\n",
        "  print(\"The triangle is an invalid triangle.\")\n"
      ],
      "metadata": {
        "colab": {
          "base_uri": "https://localhost:8080/"
        },
        "id": "t9jlMXtv5Mpg",
        "outputId": "aafd302f-007d-413b-d2b6-46427401a75f"
      },
      "execution_count": 7,
      "outputs": [
        {
          "output_type": "stream",
          "name": "stdout",
          "text": [
            "The triangle is a valid triangle.\n",
            "The triangle formed is a scalene triangle.\n"
          ]
        }
      ]
    },
    {
      "cell_type": "code",
      "source": [
        "# 9. Write a Python program to convert user input from string to integer, float, and boolean types.\n",
        "userInput_int = input(\"Enter any integer: \")\n",
        "userInput_float = input(\"Enter any float: \")\n",
        "userInput_bool = input(\"Enter 1 for True or 0 for False: \")\n",
        "convert_to_int = int(userInput_int)\n",
        "convert_to_float = float(userInput_float)\n",
        "convert_to_bool = bool(int(userInput_bool))\n",
        "print(convert_to_int)\n",
        "print(convert_to_float)\n",
        "print(convert_to_bool)"
      ],
      "metadata": {
        "colab": {
          "base_uri": "https://localhost:8080/"
        },
        "id": "KjIOAhVD7ORo",
        "outputId": "4029ed66-73cd-487b-e44b-f8ea11c4c98c"
      },
      "execution_count": 17,
      "outputs": [
        {
          "output_type": "stream",
          "name": "stdout",
          "text": [
            "Enter any integer: 69\n",
            "Enter any float: 9\n",
            "Enter 1 for True or 0 for False: 0\n",
            "69\n",
            "9.0\n",
            "False\n"
          ]
        }
      ]
    },
    {
      "cell_type": "code",
      "source": [
        "# 10. Write code to demonstrate type casting with list elements.\n",
        "\n",
        "string_list = [\"10\", \"20.5\", \"True\", \"False\", \"5\"]\n",
        "# Create empty lists\n",
        "int_list = []\n",
        "float_list = []\n",
        "bool_list = []\n",
        "\n",
        "# Start a for loop that iterated through string_list\n",
        "# Check each element for their corresponding list\n",
        "for i in string_list:\n",
        "  if(i.isdigit()):\n",
        "    int_list.append(int(i))\n",
        "  if(\".\" in i):\n",
        "    float_list.append(float(i))\n",
        "  if(i.isdigit() and int(i) > 0):\n",
        "    bool_list.append('True')\n",
        "  elif(i.lower() in [\"true\", \"false\"]):\n",
        "    bool_list.append(i)\n",
        "\n",
        "print(\"Original List:\", string_list)\n",
        "print(\"Integer List:\", int_list)\n",
        "print(\"Float List:\", float_list)\n",
        "print(\"Boolean List:\", bool_list)"
      ],
      "metadata": {
        "colab": {
          "base_uri": "https://localhost:8080/"
        },
        "id": "ZwGlkg8g_NrC",
        "outputId": "5cfa1232-5488-4d04-8358-16a65f747a35"
      },
      "execution_count": 29,
      "outputs": [
        {
          "output_type": "stream",
          "name": "stdout",
          "text": [
            "Original List: ['10', '20.5', 'True', 'False', '5']\n",
            "Integer List: [10, 5]\n",
            "Float List: [20.5]\n",
            "Boolean List: ['True', 'True', 'False', 'True']\n"
          ]
        }
      ]
    },
    {
      "cell_type": "code",
      "source": [
        "# 11. Write a program that checks if a number is positive, negative, or zero.\n",
        "number = 4\n",
        "if(number == 0):\n",
        "  print(\"The number is zero!\")\n",
        "elif(number > 0):\n",
        "  print(\"The number is a positive number.\")\n",
        "else:\n",
        "  print(\"The number is a negative number.\")"
      ],
      "metadata": {
        "colab": {
          "base_uri": "https://localhost:8080/"
        },
        "id": "yagqbEqBFdo_",
        "outputId": "4ba24683-789b-4473-ad7f-4f6e3361615c"
      },
      "execution_count": 30,
      "outputs": [
        {
          "output_type": "stream",
          "name": "stdout",
          "text": [
            "The number is a positive number.\n"
          ]
        }
      ]
    },
    {
      "cell_type": "code",
      "source": [
        "# 12. Write a for loop to print numbers from 1 to 10.\n",
        "for i in range (1, 11):\n",
        "  print(i)"
      ],
      "metadata": {
        "colab": {
          "base_uri": "https://localhost:8080/"
        },
        "id": "GGrtuBlZF9wv",
        "outputId": "a72a5276-e53a-411a-e993-2fbb1bddba3b"
      },
      "execution_count": 31,
      "outputs": [
        {
          "output_type": "stream",
          "name": "stdout",
          "text": [
            "1\n",
            "2\n",
            "3\n",
            "4\n",
            "5\n",
            "6\n",
            "7\n",
            "8\n",
            "9\n",
            "10\n"
          ]
        }
      ]
    },
    {
      "cell_type": "code",
      "source": [
        "# 13. Write a Python program to find the sum of all even numbers between 1 and 50.\n",
        "sum = 0\n",
        "for i in range (1, 51):\n",
        "  if(i % 2 == 0):\n",
        "    sum += i\n",
        "\n",
        "print(\"The sum of all even numbers from 1 - 50 =\", sum)"
      ],
      "metadata": {
        "colab": {
          "base_uri": "https://localhost:8080/"
        },
        "id": "9ENcfAbuGIIG",
        "outputId": "b1009b3f-6d89-4225-a6c2-18afefca57e0"
      },
      "execution_count": 33,
      "outputs": [
        {
          "output_type": "stream",
          "name": "stdout",
          "text": [
            "The sum of all even numbers from 1 - 50 = 650\n"
          ]
        }
      ]
    },
    {
      "cell_type": "code",
      "source": [
        "# 14. Write a program to reverse a string using a while loop.\n",
        "myString = \"Hello\"\n",
        "revString = \"\"\n",
        "n = len(myString) - 1\n",
        "while (n >= 0):\n",
        "  revString += myString[n]\n",
        "  n -= 1\n",
        "\n",
        "print(myString)\n",
        "print(revString)"
      ],
      "metadata": {
        "colab": {
          "base_uri": "https://localhost:8080/"
        },
        "id": "G0V2UW_eHFJn",
        "outputId": "908c5b65-ab7b-45d1-f556-ad344d2da5c3"
      },
      "execution_count": 39,
      "outputs": [
        {
          "output_type": "stream",
          "name": "stdout",
          "text": [
            "Hello\n",
            "olleH\n"
          ]
        }
      ]
    },
    {
      "cell_type": "code",
      "source": [
        "# 15. Write a Python program to calculate the factorial of a number provided by the user using a while loop.\n",
        "n = int(input(\"Enter a positive integer: \"))\n",
        "n_copy = n\n",
        "factorial = 1\n",
        "while(n > 0):\n",
        "  factorial *= n\n",
        "  n = n - 1\n",
        "\n",
        "print(f\"Factorial of {n_copy} is {factorial}\")"
      ],
      "metadata": {
        "colab": {
          "base_uri": "https://localhost:8080/"
        },
        "id": "__hg50pXJOHP",
        "outputId": "8ccc334d-2013-4822-dbd6-903f735526d8"
      },
      "execution_count": 41,
      "outputs": [
        {
          "output_type": "stream",
          "name": "stdout",
          "text": [
            "Enter a positive integer: 6\n",
            "Factorial of 6 is 720\n"
          ]
        }
      ]
    }
  ]
}
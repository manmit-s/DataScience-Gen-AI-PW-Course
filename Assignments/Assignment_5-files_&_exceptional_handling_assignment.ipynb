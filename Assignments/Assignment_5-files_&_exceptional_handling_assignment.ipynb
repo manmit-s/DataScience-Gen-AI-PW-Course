{
  "nbformat": 4,
  "nbformat_minor": 0,
  "metadata": {
    "colab": {
      "provenance": []
    },
    "kernelspec": {
      "name": "python3",
      "display_name": "Python 3"
    },
    "language_info": {
      "name": "python"
    }
  },
  "cells": [
    {
      "cell_type": "markdown",
      "source": [
        "1. **What is the difference between interpreted and compiled languages?**  \n",
        "   - Interpreted languages, such as Python, execute code line-by-line using an interpreter at runtime. This offers flexibility and ease of debugging, but generally results in slower performance.  \n",
        "   - Compiled languages, such as C++, are translated into machine code before execution, offering faster runtime at the cost of an extra compilation step.\n",
        "\n",
        "---\n",
        "\n",
        "2. **What is exception handling in Python?**  \n",
        "   - Exception handling is a mechanism that allows a program to deal with unexpected errors during execution. Python provides structured constructs like try, except, else, and finally to manage exceptions and ensure the program remains stable.\n",
        "\n",
        "---\n",
        "\n",
        "3. **What is the purpose of the finally block in exception handling?**  \n",
        "   - The finally block is executed regardless of whether an exception occurs or not. It is commonly used for cleanup operations such as closing files or releasing resources.\n",
        "\n",
        "---\n",
        "\n",
        "4. **What is logging in Python?**  \n",
        "   - Logging allows developers to record messages that describe the events of a program's execution. These logs help in debugging, monitoring, and maintaining the software, especially in production environments.\n",
        "\n",
        "---\n",
        "\n",
        "5. **What is the significance of the __del__ method in Python?**  \n",
        "   - The __del__ method is a destructor that is automatically called when an object is about to be destroyed. It is used to perform cleanup tasks, although reliance on it is discouraged due to unpredictability in garbage collection timing.\n",
        "\n",
        "---\n",
        "\n",
        "6. **What is the difference between import and from ... import in Python?**  \n",
        "   - Using import module imports the entire module, requiring the module name as a prefix to access its components.  \n",
        "   - Using from module import item allows direct access to a specific item from the module without using the module name.\n",
        "\n",
        "---\n",
        "\n",
        "7. **How can you handle multiple exceptions in Python?**  \n",
        "   - You can write separate except blocks for different exceptions, or group them together in a tuple:\n",
        "     ```python\n",
        "     try:\n",
        "         risky_operation()\n",
        "     except (ValueError, TypeError) as error:\n",
        "         handle(error)\n",
        "     ```\n",
        "\n",
        "---\n",
        "\n",
        "8. **What is the purpose of the with statement when handling files in Python?**  \n",
        "   - The with statement ensures that resources like files are properly managed. It automatically opens and closes files, even if an error occurs during file operations.\n",
        "\n",
        "---\n",
        "\n",
        "9. **What is the difference between multithreading and multiprocessing?**  \n",
        "   - Multithreading runs multiple threads within the same process, sharing memory space. It is suitable for I/O-bound operations.  \n",
        "   - Multiprocessing runs separate processes, each with its own memory, making it ideal for CPU-bound operations.\n",
        "\n",
        "---\n",
        "\n",
        "10. **What are the advantages of using logging in a program?**  \n",
        "    - Logging provides insight into program execution, assists in debugging, captures runtime events, categorizes them by severity, and allows recording to various outputs such as console or file.\n",
        "\n",
        "---\n",
        "\n",
        "11. **What is memory management in Python?**  \n",
        "    - Python handles memory management through dynamic allocation, automatic garbage collection, and reference counting. This system ensures efficient use of memory and helps prevent memory leaks.\n",
        "\n",
        "---\n",
        "\n",
        "12. **What are the basic steps involved in exception handling in Python?**  \n",
        "    - Enclose the error-prone code within a try block.  \n",
        "    - Use except to catch and handle specific exceptions.  \n",
        "    - Optionally use else to define code that runs if no exceptions occur.  \n",
        "    - Use finally to specify cleanup actions that execute regardless of exceptions.\n",
        "\n",
        "---\n",
        "\n",
        "13. **Why is memory management important in Python?**  \n",
        "    - Proper memory management ensures optimal performance, prevents memory leaks, and allows the program to make efficient use of system resources, especially in long-running or resource-intensive tasks.\n",
        "\n",
        "---\n",
        "\n",
        "14. **What is the role of try and except in exception handling?**  \n",
        "    - The try block contains code that might raise an exception.  \n",
        "    - The except block defines how to respond if a specific exception occurs, allowing the program to continue or exit gracefully.\n",
        "\n",
        "---\n",
        "\n",
        "15. **How does Python’s garbage collection system work?**  \n",
        "    - Python primarily uses reference counting to track objects. When no references to an object remain, it is destroyed. In addition, a cyclic garbage collector handles reference cycles that reference counting cannot resolve.\n",
        "\n",
        "---\n",
        "\n",
        "16. **What is the purpose of the else block in exception handling?**  \n",
        "    - The else block is executed only when no exceptions occur in the try block. It helps separate error-handling logic from the code that should run when everything proceeds as expected.\n",
        "\n",
        "---\n",
        "\n",
        "17. **What are the common logging levels in Python?**  \n",
        "    - DEBUG – Detailed information, typically for developers  \n",
        "    - INFO – Confirmation that the program is working as expected  \n",
        "    - WARNING – An indication that something unexpected happened  \n",
        "    - ERROR – A serious problem that needs attention  \n",
        "    - CRITICAL – A severe error causing the program to stop\n",
        "\n",
        "---\n",
        "\n",
        "18. **What is the difference between os.fork() and multiprocessing in Python?**  \n",
        "    - os.fork() creates a child process by duplicating the parent and is only available on Unix-like systems.  \n",
        "    - The multiprocessing module provides a portable way to create and manage separate processes, making it more flexible and robust for cross-platform use.\n",
        "\n",
        "---\n",
        "\n",
        "19. **What is the importance of closing a file in Python?**  \n",
        "    - Closing a file releases system resources and ensures that all buffered data is written to disk. Not closing files can result in data loss, corruption, or file access issues.\n",
        "\n",
        "---\n",
        "\n",
        "20. **What is the difference between file.read() and file.readline() in Python?**  \n",
        "    - read() reads the entire file content into a single string.  \n",
        "    - readline() reads one line at a time, which is useful for processing large files line by line.\n",
        "\n",
        "---\n",
        "\n",
        "21. **What is the logging module in Python used for?**  \n",
        "    - The logging module allows developers to record diagnostic information, errors, and runtime events during program execution in a consistent and configurable manner.\n",
        "\n",
        "---\n",
        "\n",
        "22. **What is the os module in Python used for in file handling?**  \n",
        "    - The os module provides functions to interact with the operating system, such as navigating the file system, creating directories, and handling file paths programmatically.\n",
        "\n",
        "---\n",
        "\n",
        "23. **What are the challenges associated with memory management in Python?**  \n",
        "    - Challenges include circular references, memory leaks from native extensions, and the non-deterministic nature of object destruction and garbage collection timing.\n",
        "\n",
        "---\n",
        "\n",
        "24. **How do you raise an exception manually in Python?**  \n",
        "    - To raise an exception manually, use the raise keyword followed by an appropriate exception type:\n",
        "      ```python\n",
        "      raise ValueError(\"Invalid input.\")\n",
        "      ```\n",
        "\n",
        "---\n",
        "\n",
        "25. **Why is it important to use multithreading in certain applications?**  \n",
        "    - Multithreading allows multiple tasks to run concurrently within the same process. It is particularly beneficial for I/O-bound tasks such as file operations or network requests, improving application responsiveness and efficiency.\n",
        "\n",
        "---\n"
      ],
      "metadata": {
        "id": "L7Inlp7Ivgp5"
      }
    },
    {
      "cell_type": "code",
      "source": [
        "# 1. How can you open a file for writing in Python and write a string to it ?\n",
        "with open(\"sample_file.txt\", \"w\") as f:\n",
        "  f.write(\"Hello there, this is Manmit!\")\n",
        "  print(\"Successful!\")"
      ],
      "metadata": {
        "colab": {
          "base_uri": "https://localhost:8080/"
        },
        "id": "H3P4Evca0Yex",
        "outputId": "09e5bf5c-4920-472c-da08-1dd920e924e5"
      },
      "execution_count": null,
      "outputs": [
        {
          "output_type": "stream",
          "name": "stdout",
          "text": [
            "Successful!\n"
          ]
        }
      ]
    },
    {
      "cell_type": "code",
      "source": [
        "# 2. Write a Python program to read the contents of a file and print each line.\n",
        "with open(\"sample_file.txt\", \"r\") as f:\n",
        "  content = f.read()\n",
        "  print(content)"
      ],
      "metadata": {
        "colab": {
          "base_uri": "https://localhost:8080/"
        },
        "id": "GRzhB2up09QC",
        "outputId": "ab08e3d4-7c18-4a8c-e6bb-bb8ca1ef08b8"
      },
      "execution_count": null,
      "outputs": [
        {
          "output_type": "stream",
          "name": "stdout",
          "text": [
            "Hello there, this is Manmit!\n"
          ]
        }
      ]
    },
    {
      "cell_type": "code",
      "source": [
        "# 3. How would you handle a case where the file doesn't exist while trying to open it for reading ?\n",
        "try:\n",
        "  with open(\"file.txt\", \"r\") as f:\n",
        "    f.read()\n",
        "except Exception as e:\n",
        "  print(e)"
      ],
      "metadata": {
        "colab": {
          "base_uri": "https://localhost:8080/"
        },
        "id": "ZwQAOJoI1YGa",
        "outputId": "1a7d64c8-1e41-4724-f642-b65cb145911a"
      },
      "execution_count": null,
      "outputs": [
        {
          "output_type": "stream",
          "name": "stdout",
          "text": [
            "[Errno 2] No such file or directory: 'file.txt'\n"
          ]
        }
      ]
    },
    {
      "cell_type": "code",
      "source": [
        "# 4. Write a Python script that reads from one file and writes its content to another file.\n",
        "with open(\"sample_file.txt\", \"r\") as f1:\n",
        "  content = f1.read()\n",
        "\n",
        "with open(\"file.txt\", \"w\") as f2:\n",
        "  f2.write(content)\n",
        "  print(\"Successful!\")"
      ],
      "metadata": {
        "colab": {
          "base_uri": "https://localhost:8080/"
        },
        "id": "hih_Ws_h1wmj",
        "outputId": "bd64b3ee-7b78-4da1-9ed0-9885afd195d5"
      },
      "execution_count": null,
      "outputs": [
        {
          "output_type": "stream",
          "name": "stdout",
          "text": [
            "Successful!\n"
          ]
        }
      ]
    },
    {
      "cell_type": "code",
      "source": [
        "# 5. How would you catch and handle division by zero error in Python ?\n",
        "try:\n",
        "  print(4/0)\n",
        "except Exception as e:\n",
        "  print(\"Cannot divide by Zero!\")"
      ],
      "metadata": {
        "colab": {
          "base_uri": "https://localhost:8080/"
        },
        "id": "e-L3ZI5E2mxy",
        "outputId": "aa04141c-0695-4317-eb75-a2642b00dfe4"
      },
      "execution_count": null,
      "outputs": [
        {
          "output_type": "stream",
          "name": "stdout",
          "text": [
            "Cannot divide by Zero!\n"
          ]
        }
      ]
    },
    {
      "cell_type": "code",
      "source": [
        "# 6. Write a Python program that logs an error message to a log file when a division by zero exception occurs ?\n",
        "import logging\n",
        "\n",
        "logging.basicConfig(filename='error.log', level=logging.ERROR)\n",
        "\n",
        "try:\n",
        "    print(10 / 0)\n",
        "except ZeroDivisionError:\n",
        "    logging.error(\"Division by zero error occurred!\")\n",
        "    print(\"An error occurred. Please check the log file.\")"
      ],
      "metadata": {
        "colab": {
          "base_uri": "https://localhost:8080/"
        },
        "id": "6gJ8mfHo26Bq",
        "outputId": "3ba45664-0167-4653-af95-b6bf574774a9"
      },
      "execution_count": null,
      "outputs": [
        {
          "output_type": "stream",
          "name": "stderr",
          "text": [
            "ERROR:root:Division by zero error occurred!\n"
          ]
        },
        {
          "output_type": "stream",
          "name": "stdout",
          "text": [
            "An error occurred. Please check the log file.\n"
          ]
        }
      ]
    },
    {
      "cell_type": "code",
      "source": [
        "# 7. How do you log information at different levels (INFO, ERROR, WARNING) in Python using the logging module ?\n",
        "import logging\n",
        "\n",
        "logging.basicConfig(level=logging.INFO)\n",
        "\n",
        "logging.debug(\"This is a debug message.\")\n",
        "logging.info(\"This is an info message.\")\n",
        "logging.warning(\"This is a warning message.\")\n",
        "logging.error(\"This is an error message.\")\n",
        "logging.critical(\"This is a critical message.\")"
      ],
      "metadata": {
        "colab": {
          "base_uri": "https://localhost:8080/"
        },
        "id": "E3JHsPL43soa",
        "outputId": "45e3ef9c-ba03-4914-9f85-fc1123f34d6f"
      },
      "execution_count": null,
      "outputs": [
        {
          "output_type": "stream",
          "name": "stderr",
          "text": [
            "WARNING:root:This is a warning message.\n",
            "ERROR:root:This is an error message.\n",
            "CRITICAL:root:This is a critical message.\n"
          ]
        }
      ]
    },
    {
      "cell_type": "code",
      "source": [
        "# 8. Write a program to handle a file opening error using exception handling.\n",
        "try:\n",
        "  with open(\"files.txt\", \"r\") as f:\n",
        "    f.read()\n",
        "except Exception as e:\n",
        "  print(e)"
      ],
      "metadata": {
        "colab": {
          "base_uri": "https://localhost:8080/"
        },
        "id": "t-VEsXa84E6i",
        "outputId": "987d0806-0a42-400d-fe64-fd1d75531f9f"
      },
      "execution_count": null,
      "outputs": [
        {
          "output_type": "stream",
          "name": "stdout",
          "text": [
            "[Errno 2] No such file or directory: 'files.txt'\n"
          ]
        }
      ]
    },
    {
      "cell_type": "code",
      "source": [
        "# 9. How can you read a file line by line and store its content in a list in Python ?\n",
        "c = []\n",
        "with open(\"file.txt\", \"r\") as f:\n",
        "  for line in f:\n",
        "    c.append(line)\n",
        "\n",
        "print(c)"
      ],
      "metadata": {
        "colab": {
          "base_uri": "https://localhost:8080/"
        },
        "id": "GVa3dhSD4kjy",
        "outputId": "e64c15f3-257b-40f1-e993-9e62e7f14b5c"
      },
      "execution_count": null,
      "outputs": [
        {
          "output_type": "stream",
          "name": "stdout",
          "text": [
            "['Hello there, this is Manmit!\\n', 'I am 18 years old.\\n', 'I like Coding in Python.\\n', 'I will be a Data Scientist']\n"
          ]
        }
      ]
    },
    {
      "cell_type": "code",
      "source": [
        "# 10. How can you append data to an existing file in Python ?\n",
        "with open(\"file.txt\", \"a\") as f:\n",
        "  f.write(\"\\nI have a GitHub Account.\")\n",
        "  print(\"Successful!\")"
      ],
      "metadata": {
        "colab": {
          "base_uri": "https://localhost:8080/"
        },
        "id": "V0BHj16L5oPq",
        "outputId": "d6588de8-bce7-41ee-e832-3e74910ce161"
      },
      "execution_count": null,
      "outputs": [
        {
          "output_type": "stream",
          "name": "stdout",
          "text": [
            "Successful!\n"
          ]
        }
      ]
    },
    {
      "cell_type": "code",
      "source": [
        "# 11. Write a Python program that uses a try-except block to handle an error when attempting to access a dictionary key that doesn't exist.\n",
        "d = {\"name\" : \"Manmit\"}\n",
        "try:\n",
        "  print(d[\"age\"])\n",
        "except Exception as e:\n",
        "  print(\"No such key present in the dictionary!\")"
      ],
      "metadata": {
        "colab": {
          "base_uri": "https://localhost:8080/"
        },
        "id": "JnnL__vM7Q07",
        "outputId": "5ba38c37-16e3-4600-947d-f28b1fe3b486"
      },
      "execution_count": null,
      "outputs": [
        {
          "output_type": "stream",
          "name": "stdout",
          "text": [
            "No such key present in the dictionary!\n"
          ]
        }
      ]
    },
    {
      "cell_type": "code",
      "source": [
        "# 12. Write a program that demonstrates using multiple except blocks to handle different types of exceptions.\n",
        "d = {\"name\" : \"Manmit\"}\n",
        "try:\n",
        "  print(d[\"height\"])\n",
        "  print(4/0)\n",
        "  with open(\"x.txt\", \"r\") as f:\n",
        "    f.read()\n",
        "except KeyError as e1:\n",
        "  print(e1)\n",
        "except ZeroDivisionError as e2:\n",
        "  print(e2)\n",
        "except FileNotFoundError as e3:\n",
        "  print(e3)"
      ],
      "metadata": {
        "colab": {
          "base_uri": "https://localhost:8080/"
        },
        "id": "PbNbCG_48JXy",
        "outputId": "5c088576-264b-4b92-99da-9db2232b6c3d"
      },
      "execution_count": null,
      "outputs": [
        {
          "output_type": "stream",
          "name": "stdout",
          "text": [
            "'height'\n"
          ]
        }
      ]
    },
    {
      "cell_type": "code",
      "source": [
        "# 13. How would you check if a file exists before attempting to read it in Python?"
      ],
      "metadata": {
        "id": "Z5BCwAgs-3Zq"
      },
      "execution_count": null,
      "outputs": []
    },
    {
      "cell_type": "code",
      "metadata": {
        "colab": {
          "base_uri": "https://localhost:8080/"
        },
        "id": "cc7bc211",
        "outputId": "a06c8a91-f801-401e-b9cb-46f9fe758f1f"
      },
      "source": [
        "import os\n",
        "\n",
        "file_path = \"sample_file.txt\"\n",
        "\n",
        "if os.path.exists(file_path):\n",
        "  print(f\"The file '{file_path}' exists.\")\n",
        "  with open(file_path, \"a\") as f:\n",
        "    f.write(\"\\nHi there!\")\n",
        "else:\n",
        "  print(f\"The file '{file_path}' does not exist.\")"
      ],
      "execution_count": 33,
      "outputs": [
        {
          "output_type": "stream",
          "name": "stdout",
          "text": [
            "The file 'sample_file.txt' exists.\n"
          ]
        }
      ]
    },
    {
      "cell_type": "code",
      "source": [
        "# 14. Write a program that uses the logging module to log both informational and error messages.\n",
        "import logging\n",
        "\n",
        "logging.basicConfig(level=logging.INFO)\n",
        "\n",
        "logging.info(\"This is an informational message.\")\n",
        "logging.error(\"This is an error message.\")"
      ],
      "metadata": {
        "colab": {
          "base_uri": "https://localhost:8080/"
        },
        "id": "_AZAj-kdN-ab",
        "outputId": "b61a680d-88d5-4d11-dc88-2012fb6421d0"
      },
      "execution_count": 34,
      "outputs": [
        {
          "output_type": "stream",
          "name": "stderr",
          "text": [
            "ERROR:root:This is an error message.\n"
          ]
        }
      ]
    },
    {
      "cell_type": "code",
      "source": [
        "# 15. Write a Python program that prints the content of a file and handles the case when the file is empty.\n",
        "with open(\"new.txt\", \"r\") as f:\n",
        "  content = f.read()\n",
        "\n",
        "if(content == \"\"):\n",
        "  print(\"The file is empty!\")"
      ],
      "metadata": {
        "colab": {
          "base_uri": "https://localhost:8080/"
        },
        "id": "tU-_-LSOOS7b",
        "outputId": "87f3fb3c-18eb-45d7-9ba2-0e4aa3104e26"
      },
      "execution_count": 36,
      "outputs": [
        {
          "output_type": "stream",
          "name": "stdout",
          "text": [
            "The file is empty!\n"
          ]
        }
      ]
    },
    {
      "cell_type": "code",
      "source": [
        "# 16. Demonstrate how to use memory profiling to check the memory usage of a small program.\n",
        "!pip install memory_profiler\n",
        "%load_ext memory_profiler"
      ],
      "metadata": {
        "colab": {
          "base_uri": "https://localhost:8080/"
        },
        "id": "KDkMm2E5PGnb",
        "outputId": "cc3a112e-871c-41dd-effa-fd55225b05e4"
      },
      "execution_count": 39,
      "outputs": [
        {
          "output_type": "stream",
          "name": "stdout",
          "text": [
            "Collecting memory_profiler\n",
            "  Downloading memory_profiler-0.61.0-py3-none-any.whl.metadata (20 kB)\n",
            "Requirement already satisfied: psutil in /usr/local/lib/python3.11/dist-packages (from memory_profiler) (5.9.5)\n",
            "Downloading memory_profiler-0.61.0-py3-none-any.whl (31 kB)\n",
            "Installing collected packages: memory_profiler\n",
            "Successfully installed memory_profiler-0.61.0\n"
          ]
        }
      ]
    },
    {
      "cell_type": "code",
      "metadata": {
        "colab": {
          "base_uri": "https://localhost:8080/"
        },
        "id": "4bf74a23",
        "outputId": "77e424e3-7ad4-4d6b-b8b8-cbfcbdd1f193"
      },
      "source": [
        "%%memit\n",
        "def create_list(size):\n",
        "  return [i for i in range(size)]\n",
        "\n",
        "my_list = create_list(1000000)"
      ],
      "execution_count": 40,
      "outputs": [
        {
          "output_type": "stream",
          "name": "stdout",
          "text": [
            "peak memory: 223.01 MiB, increment: 32.32 MiB\n"
          ]
        }
      ]
    },
    {
      "cell_type": "code",
      "metadata": {
        "colab": {
          "base_uri": "https://localhost:8080/"
        },
        "id": "a6dc78ec",
        "outputId": "64725563-b727-470c-e59d-f488c549d934"
      },
      "source": [
        "# 17. Write a Python program to create and write a list of numbers to a file, one number per line.\n",
        "\n",
        "numbers = [1, 2, 3, 4, 5, 6, 7, 8, 9, 10]\n",
        "file_name = \"numbers.txt\"\n",
        "\n",
        "with open(file_name, \"w\") as f:\n",
        "  for number in numbers:\n",
        "    f.write(str(number) + \"\\n\")\n",
        "\n",
        "print(f\"Numbers written to {file_name}\")"
      ],
      "execution_count": 42,
      "outputs": [
        {
          "output_type": "stream",
          "name": "stdout",
          "text": [
            "Numbers written to numbers.txt\n"
          ]
        }
      ]
    },
    {
      "cell_type": "code",
      "source": [
        "# 18. How would you implement a basic logging setup that logs to a file with rotation after 1MB ?\n"
      ],
      "metadata": {
        "id": "5hpwLn-0QQzq"
      },
      "execution_count": null,
      "outputs": []
    },
    {
      "cell_type": "code",
      "metadata": {
        "colab": {
          "base_uri": "https://localhost:8080/"
        },
        "id": "8cd4478c",
        "outputId": "3cfa66dd-4571-4e00-fd39-fbba335c877e"
      },
      "source": [
        "import logging\n",
        "from logging.handlers import RotatingFileHandler\n",
        "\n",
        "log_file = \"simple_rotating_log.log\"\n",
        "max_bytes = 1024 * 1024 # 1MB\n",
        "backup_count = 5 # Keep up to 5 backup files\n",
        "\n",
        "logger = logging.getLogger(\"simple_logger\")\n",
        "logger.setLevel(logging.INFO)\n",
        "\n",
        "handler = RotatingFileHandler(log_file, maxBytes=max_bytes, backupCount=backup_count)\n",
        "\n",
        "logger.addHandler(handler)\n",
        "\n",
        "logger.info(\"This is a simple log message.\")\n",
        "\n",
        "print(f\"Log message written to {log_file}\")"
      ],
      "execution_count": 53,
      "outputs": [
        {
          "output_type": "stream",
          "name": "stderr",
          "text": [
            "INFO:simple_logger:This is a simple log message.\n"
          ]
        },
        {
          "output_type": "stream",
          "name": "stdout",
          "text": [
            "Log message written to simple_rotating_log.log\n"
          ]
        }
      ]
    },
    {
      "cell_type": "code",
      "source": [
        "# 19. Write a program that handles both IndexError and KeyError using a try-except block.\n",
        "l = [3, 4, 12]\n",
        "d = {\"name\" : \"Alex\"}\n",
        "\n",
        "try:\n",
        "  print(l[0])\n",
        "  print(d[\"age\"])\n",
        "except KeyError as e1:\n",
        "  print(\"KeyError\")\n",
        "except IndexError as e2:\n",
        "  print(\"IndexError\")"
      ],
      "metadata": {
        "colab": {
          "base_uri": "https://localhost:8080/"
        },
        "id": "bmuKHpKQQzz6",
        "outputId": "f8790adb-42ba-4350-c628-f5ad3594938e"
      },
      "execution_count": 49,
      "outputs": [
        {
          "output_type": "stream",
          "name": "stdout",
          "text": [
            "3\n",
            "KeyError\n"
          ]
        }
      ]
    },
    {
      "cell_type": "code",
      "metadata": {
        "colab": {
          "base_uri": "https://localhost:8080/"
        },
        "id": "b693d654",
        "outputId": "227131a8-b227-4bb6-9182-5a5da42320e5"
      },
      "source": [
        "# 20. How would you open a file and read its contents using a context manager in Python ?\n",
        "file_name = \"sample_file.txt\"\n",
        "\n",
        "try:\n",
        "    with open(file_name, \"r\") as f:\n",
        "        content = f.read()\n",
        "        print(content)\n",
        "except FileNotFoundError:\n",
        "    print(f\"Error: The file '{file_name}' was not found.\")"
      ],
      "execution_count": 51,
      "outputs": [
        {
          "output_type": "stream",
          "name": "stdout",
          "text": [
            "Hello there, this is Manmit!\n",
            "Hi there!\n"
          ]
        }
      ]
    },
    {
      "cell_type": "code",
      "source": [
        "# 21. Write a Python program that reads a file and prints the number of occurrences of a specific word.\n",
        "file_name = \"file.txt\"\n",
        "target_word = \"am\"\n",
        "with open(file_name, \"r\") as f:\n",
        "    content = f.read()\n",
        "\n",
        "words = content.split()\n",
        "\n",
        "count = 0\n",
        "for word in words:\n",
        "    if word.lower() == target_word.lower():\n",
        "        count += 1\n",
        "\n",
        "print(f\"The word '{target_word}' appears {count} times in the file.\")"
      ],
      "metadata": {
        "colab": {
          "base_uri": "https://localhost:8080/"
        },
        "id": "KcFGk3byRy06",
        "outputId": "d7957828-574f-49aa-8492-548384aef6e6"
      },
      "execution_count": 69,
      "outputs": [
        {
          "output_type": "stream",
          "name": "stdout",
          "text": [
            "The word 'am' appears 1 times in the file.\n"
          ]
        }
      ]
    },
    {
      "cell_type": "code",
      "metadata": {
        "colab": {
          "base_uri": "https://localhost:8080/"
        },
        "id": "fe90f357",
        "outputId": "fc34d1b8-a15b-4346-9d45-988ec39bef06"
      },
      "source": [
        "# 22. How can you check if a file is empty before attempting to read its contents (without using os module)?\n",
        "\n",
        "file_name = \"new.txt\"\n",
        "\n",
        "try:\n",
        "    with open(file_name, \"r\") as f:\n",
        "        content = f.read()\n",
        "        if not content:\n",
        "            print(f\"The file '{file_name}' is empty.\")\n",
        "        else:\n",
        "            print(f\"The file '{file_name}' is not empty.\")\n",
        "except FileNotFoundError:\n",
        "    print(f\"The file '{file_name}' does not exist.\")"
      ],
      "execution_count": 54,
      "outputs": [
        {
          "output_type": "stream",
          "name": "stdout",
          "text": [
            "The file 'new.txt' is empty.\n"
          ]
        }
      ]
    },
    {
      "cell_type": "code",
      "metadata": {
        "colab": {
          "base_uri": "https://localhost:8080/"
        },
        "id": "9809cdc0",
        "outputId": "b2414922-a8ef-4635-f99b-164c4be35c5b"
      },
      "source": [
        "# 23. Write a Python program that writes to a log file when an error occurs during file handling.\n",
        "import logging\n",
        "\n",
        "logging.basicConfig(filename='file_handling_errors.log', level=logging.ERROR)\n",
        "\n",
        "file_name = \"non_existent_file.txt\"\n",
        "\n",
        "try:\n",
        "    with open(file_name, \"r\") as f:\n",
        "        content = f.read()\n",
        "        print(content)\n",
        "except FileNotFoundError as e:\n",
        "    logging.error(f\"Error opening file {file_name}: {e}\")\n",
        "    print(f\"An error occurred. Please check the log file 'file_handling_errors.log'.\")\n",
        "except Exception as e:\n",
        "    logging.error(f\"An unexpected error occurred during file handling: {e}\")\n",
        "    print(f\"An unexpected error occurred. Please check the log file 'file_handling_errors.log'.\")"
      ],
      "execution_count": 55,
      "outputs": [
        {
          "output_type": "stream",
          "name": "stderr",
          "text": [
            "ERROR:root:Error opening file non_existent_file.txt: [Errno 2] No such file or directory: 'non_existent_file.txt'\n"
          ]
        },
        {
          "output_type": "stream",
          "name": "stdout",
          "text": [
            "An error occurred. Please check the log file 'file_handling_errors.log'.\n"
          ]
        }
      ]
    }
  ]
}
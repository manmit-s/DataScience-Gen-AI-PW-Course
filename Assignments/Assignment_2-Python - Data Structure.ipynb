{
  "nbformat": 4,
  "nbformat_minor": 0,
  "metadata": {
    "colab": {
      "provenance": []
    },
    "kernelspec": {
      "name": "python3",
      "display_name": "Python 3"
    },
    "language_info": {
      "name": "python"
    }
  },
  "cells": [
    {
      "cell_type": "markdown",
      "source": [
        "1. What are data structures, and why are they important ?\n",
        "  - Data Structures are special formats for organizing, processing, and retrieving the data efficiently.\n",
        "  - They are important because -\n",
        "    - They are efficient.\n",
        "    - Improve problem solving.\n",
        "    - Memory management efficiency.\n",
        "----\n",
        "2. Explain the difference between mutable and immutable data types with examples.\n",
        "  - Mutable data types:\n",
        "    - The data types whose objects, once created, can be modified in place without creating a new object.\n",
        "    - For eg - Lists and Dictionaries.\n",
        "    -\n",
        "    ``` python\n",
        "my_list = [1, 2, 3]\n",
        "print(my_list)\n",
        "my_list.append(4)\n",
        "print(my_list)\n",
        "my_list[0] = 10\n",
        "print(my_list)\n",
        "```\n",
        "  - Immutable data types:\n",
        "    - The data types whose objects, once created, cannot be modified in place. Any operation that appears to \"modify\" them actually creates a new object.\n",
        "    - For eg - Tuples and Strings.\n",
        "    -\n",
        "    ```python\n",
        "my_tuple = (1, 2, 3)\n",
        "print(my_tuple)\n",
        "#you have to create a new one to actually reflect the modifications\n",
        "new_tuple = my_tuple + (4,)\n",
        "print(new_tuple)\n",
        "print(my_tuple)\n",
        "    ```\n",
        "----\n",
        "3. What are the main differences between lists and tuples in Python ?\n",
        "  - Main differences between Lists and Tuples:\n",
        "    - Lists are mutable while Tuples are immutable.\n",
        "    - Lists handle dynamic data while Tuples handle fixed data.\n",
        "    - List process data slower than Tuples.\n",
        "    - List are declared with '[ ]' while Tuples are declared with '( )'.\n",
        "----\n",
        "4. Describe how dictionaries store data.\n",
        "  - Dictionaries store data as key - value pairs.\n",
        "  - This means for every unique key there will be a corresponding value to it.\n",
        "  - As they are mutable we can modify the value.\n",
        "  - We can access the values modify it if we know their key.\n",
        "  - Note that keys must be immutable.\n",
        "----\n",
        "5. Why might you use a set instead of a list in Python ?\n",
        "  - Sets automatically store only unique items. If you add duplicates, they are ignored. Lists allow duplicate items.\n",
        "  - Sets support operations like union, intersection, difference, and symmetric difference, which are useful for comparing collections.\n",
        "  - If the order of items doesn't matter to you, sets can be a good choice because they do not maintain insertion order (unlike lists).\n",
        "----\n",
        "6. What is a string in Python, and how is it different from a list ?\n",
        "  - List is a type of data structure that stores anything in a sequence of characters enclosed in ' ' or \" \" or ''' ''' or \"\"\" \"\"\".\n",
        "  - Mostly used to represent the textual data.\n",
        "  - Strings are different by Lists because:\n",
        "    - Strings store characters(letters, symbols, number, special characters). But Lists can store any data type like(strings, lists, int, bool, etc).\n",
        "    - Strings are immutable while Lists are mutable.\n",
        "    - Strings and Lists have their own functions that are operated respectively like split( ), replace( ) for Strings and append( ), remove( ) for Lists.\n",
        "----\n",
        "7. How do tuples ensure data integrity in Python ?\n",
        "  - Immutability: This is the primary way. Once a tuple is created, its contents cannot be changed. This means:\n",
        "    - No Accidental Modification: You can pass a tuple to different parts of your code, or to functions, with confidence that its values won't be unintentionally altered.\n",
        "    - The data in a tuple remains constant throughout its lifetime, making it easier to reason about its state.\n",
        "----\n",
        "8. What is a hash table, and how does it relate to dictionaries in Python ?\n",
        "  - Hash Table is data structure which stores data in key - value pairs.\n",
        "  - It does relate to Dictionaries in Pythonwhich also store the data in key -  value pairs.\n",
        "  - Both handle collisions by introducing unique keys.\n",
        "  - In Python, the built-in dict (dictionary) data type is fundamentally implemented using a hash table.\n",
        "----\n",
        "9. Can lists contain different data types in Python ?\n",
        "  - Yes, Lists can contain different data types in Python\n",
        "----\n",
        "10. Explain why strings are immutable in Python ?\n",
        "  - Performance optimizations.\n",
        "  - Data integrity and predictibilty.\n",
        "  - Simpler design.\n",
        "----\n",
        "11. What advantages do dictionaries offer over lists for certain tasks ?\n",
        "  - Self-Describing Data:\n",
        "      - Dictionaries: Keys provide meaningful labels for the values, making the data more readable and understandable (e.g., person['name'] is clearer than person[0]).\n",
        "      - Lists: Elements are accessed by numerical index, which doesn't convey any inherent meaning about the data itself.\n",
        "  - Flexible Data Structure.\n",
        "----\n",
        "12. Describe a scenario where using a tuple would be preferable over a list.\n",
        "  - In a game where 3-D coordinates must be stored (10, 20, 30):\n",
        "      - Using Tuples will be more reliable as they cannot be modified as these kind of data must be fixed and need to be secured.\n",
        "      - Lists on the other can be modified and hence they are not a reliable data type in such a scenario.\n",
        "----\n",
        "13.  How do sets handle duplicate values in Python ?\n",
        "  - When you add duplicate values to a set, it automatically discards the duplicates and keeps only one instance of each unique value.\n",
        "  - It doesn't raise an error; it simply ignores the attempt to add a value that's already present.\n",
        "  - If you create a set from a list or other iterable containing duplicates, the resulting set will only contain the unique elements.\n",
        "----\n",
        "14. How does the “in” keyword work differently for lists and dictionaries ?\n",
        "  - For Lists: The in keyword checks if the specified value is present as an element anywhere in the list.\n",
        "  - For Dictionaries: The in keyword checks if the specified value is present as a key in the dictionary.\n",
        "----\n",
        "15. Can you modify the elements of a tuple ? Explain why or why not.\n",
        "  - No, you cannot modify the elements of a tuple in Python.\n",
        "  - Why not ?\n",
        "      - Tuples are immutable. This is a fundamental property of tuples.\n",
        "      - Once a tuple is created, its size and the values of its elements are fixed and cannot be changed in-place.\n",
        "      - Any operation that seems to \"modify\" a tuple (like concatenation or slicing) actually creates a brand new tuple in memory with the desired changes. The original tuple remains untouched.\n",
        "----\n",
        "16. What is a nested dictionary, and give an example of its use case ?\n",
        "  - A nested dictionary is a dictionary where the values are themselves dictionaries. This allows for hierarchical storage of data.\n",
        "  -\n",
        "  ```python\n",
        "students_data = {\n",
        "    \"Alice\": {\n",
        "        \"age\": 16,\n",
        "        \"grade\": \"10th\",\n",
        "        \"subjects\": {\n",
        "            \"math\": 95,\n",
        "            \"science\": 88,\n",
        "            \"history\": 78\n",
        "        }\n",
        "    },\n",
        "    \"Bob\": {\n",
        "        \"age\": 17,\n",
        "        \"grade\": \"11th\",\n",
        "        \"subjects\": {\n",
        "            \"math\": 85,\n",
        "            \"physics\": 92,\n",
        "            \"chemistry\": 76\n",
        "        }\n",
        "    },\n",
        "    \"Charlie\": {\n",
        "        \"age\": 16,\n",
        "        \"grade\": \"10th\",\n",
        "        \"subjects\": {\n",
        "            \"math\": 70,\n",
        "            \"science\": 80,\n",
        "            \"english\": 90\n",
        "        }\n",
        "    }\n",
        "}\n",
        "  ```\n",
        "----\n",
        "17.  Describe the time complexity of accessing elements in a dictionary.\n",
        "  - Time complexity is a way to measure how the running time of an algorithm grows as the size of its input grows.\n",
        "  - The time complexity of accessing elements in a Python dictionary is generally:\n",
        "      - Average Case: O(1) (Constant Time).\n",
        "      - Worst Case: O(n) (Linear Time).\n",
        "----\n",
        "18. In what situations are lists preferred over dictionaries ?\n",
        "  - When the sequence or position of items is important.\n",
        "  - When you primarily need to access items based on their numerical position (0, 1, 2, etc.).\n",
        "  - When you need to store duplicate values and each instance is significant.\n",
        "  - When you have a collection of items that are generally of the same type and you don't need complex key-value relationships.\n",
        "  - Lists are often used as the underlying data structure for simple stack (LIFO) or queue (FIFO) implementations due to their append() and pop() methods.\n",
        "----\n",
        "19. Why are dictionaries considered unordered, and how does that affect data retrieval ?\n",
        "  - Dictionaries were considered unordered because their internal implementation (hash tables) did not guarantee any specific order of elements.\n",
        "  - You could not rely on insertion order for any operation. If you needed to process items in a specific sequence, you'd have to get the keys (e.g., my_dict.keys()), sort them, and then iterate.\n",
        "  - You can now rely on insertion order when iterating over a dictionary, its keys, values, or items.\n",
        "----\n",
        "20. Explain the difference between a list and a dictionary in terms of data retrieval.\n",
        "  - For Lists:\n",
        "      - You access elements by their numerical index (their position in the sequence, starting from 0).\n",
        "      - Extremely fast, O(1) (constant time). If you know the exact position, Python can jump straight to it.\n",
        "  - For Dictionaries:\n",
        "      - You access values by their associated unique key.\n",
        "      - Extremely fast, O(1) on average (constant time). Dictionaries use a technique called hashing, which allows them to quickly locate the memory address of a value given its key, regardless of the dictionary's size.\n",
        "\n",
        "_____"
      ],
      "metadata": {
        "id": "JBGyOkGrNzmT"
      }
    },
    {
      "cell_type": "code",
      "source": [
        "# 1. Write a code to create a string with your name and print it.\n",
        "\n",
        "name = \"Manmit\"\n",
        "print(name)"
      ],
      "metadata": {
        "colab": {
          "base_uri": "https://localhost:8080/"
        },
        "id": "_t-iMkMtdeWp",
        "outputId": "d9d8a8f7-353a-4379-d139-d93954c6408a"
      },
      "execution_count": null,
      "outputs": [
        {
          "output_type": "stream",
          "name": "stdout",
          "text": [
            "Manmit\n"
          ]
        }
      ]
    },
    {
      "cell_type": "code",
      "source": [
        "# 2. Write a code to find the length of the string \"Hello World\".\n",
        "\n",
        "print(len(\"Hello World\"))"
      ],
      "metadata": {
        "colab": {
          "base_uri": "https://localhost:8080/"
        },
        "id": "Xl_ghWL1dsDt",
        "outputId": "9cc04ae8-7921-4a5e-c6f0-1e36af816cfe"
      },
      "execution_count": null,
      "outputs": [
        {
          "output_type": "stream",
          "name": "stdout",
          "text": [
            "11\n"
          ]
        }
      ]
    },
    {
      "cell_type": "code",
      "source": [
        "# 3. Write a code to slice the first 3 characters from the string \"Python Programming\".\n",
        "word = (\"Python Programming\")\n",
        "print(word[0:3])"
      ],
      "metadata": {
        "colab": {
          "base_uri": "https://localhost:8080/"
        },
        "id": "EOHHTs2Ud8Ld",
        "outputId": "cfdd96cb-83e7-413b-9ad2-22e8d2c68ae7"
      },
      "execution_count": null,
      "outputs": [
        {
          "output_type": "stream",
          "name": "stdout",
          "text": [
            "Pyt\n"
          ]
        }
      ]
    },
    {
      "cell_type": "code",
      "source": [
        "# 4. Write a code to convert the string \"hello\" to uppercase.\n",
        "word = \"hello\"\n",
        "upperWord = word.upper()\n",
        "print(upperWord)"
      ],
      "metadata": {
        "colab": {
          "base_uri": "https://localhost:8080/"
        },
        "id": "YTqVozioeP19",
        "outputId": "8e5f9d52-f619-4f4c-dbd0-bc4fb86b7c80"
      },
      "execution_count": null,
      "outputs": [
        {
          "output_type": "stream",
          "name": "stdout",
          "text": [
            "HELLO\n"
          ]
        }
      ]
    },
    {
      "cell_type": "code",
      "source": [
        "# 5. Write a code to replace the word \"apple\" with \"orange\" in the string \"I like apple\".\n",
        "sentence = \"I like apple\"\n",
        "print(sentence.replace(\"apple\", \"orange\"))"
      ],
      "metadata": {
        "colab": {
          "base_uri": "https://localhost:8080/"
        },
        "id": "-5on8vJSeguw",
        "outputId": "e31203db-6470-4beb-d99a-250ddb3c7494"
      },
      "execution_count": null,
      "outputs": [
        {
          "output_type": "stream",
          "name": "stdout",
          "text": [
            "I like orange\n"
          ]
        }
      ]
    },
    {
      "cell_type": "code",
      "source": [
        "# 6. Write a code to create a list with numbers 1 to 5 and print it.\n",
        "my_list = [1, 2, 3, 4, 5]\n",
        "print(my_list)"
      ],
      "metadata": {
        "colab": {
          "base_uri": "https://localhost:8080/"
        },
        "id": "dMU3GuU-e0EO",
        "outputId": "caff209d-8449-4826-f681-e741f0a1b374"
      },
      "execution_count": null,
      "outputs": [
        {
          "output_type": "stream",
          "name": "stdout",
          "text": [
            "[1, 2, 3, 4, 5]\n"
          ]
        }
      ]
    },
    {
      "cell_type": "code",
      "source": [
        "# 7. Write a code to append the number 10 to the list [1, 2, 3, 4].\n",
        "my_list = [1, 2, 3, 4]\n",
        "my_list.append(10)\n",
        "print(my_list)"
      ],
      "metadata": {
        "colab": {
          "base_uri": "https://localhost:8080/"
        },
        "id": "OMRxF-tdfCR2",
        "outputId": "61e08602-a522-421e-bf33-39ec11e45cff"
      },
      "execution_count": null,
      "outputs": [
        {
          "output_type": "stream",
          "name": "stdout",
          "text": [
            "[1, 2, 3, 4, 10]\n"
          ]
        }
      ]
    },
    {
      "cell_type": "code",
      "source": [
        "# 8. Write a code to remove the number 3 from the list [1, 2, 3, 4, 5].\n",
        "my_list = [1, 2, 3, 4, 5]\n",
        "my_list.remove(3)\n",
        "print(my_list)"
      ],
      "metadata": {
        "colab": {
          "base_uri": "https://localhost:8080/"
        },
        "id": "XpkX1DHkfU71",
        "outputId": "8c61ec39-4203-41fe-eb80-01936c3a3841"
      },
      "execution_count": null,
      "outputs": [
        {
          "output_type": "stream",
          "name": "stdout",
          "text": [
            "[1, 2, 4, 5]\n"
          ]
        }
      ]
    },
    {
      "cell_type": "code",
      "source": [
        "# 9. Write a code to access the second element in the list ['a', 'b', 'c', 'd'].\n",
        "my_list = ['a', 'b', 'c', 'd']\n",
        "print(my_list[1])"
      ],
      "metadata": {
        "id": "wv38X1XFfe_9",
        "colab": {
          "base_uri": "https://localhost:8080/"
        },
        "outputId": "bccf8c39-dca9-4ab7-9730-cc5742e19aba"
      },
      "execution_count": null,
      "outputs": [
        {
          "output_type": "stream",
          "name": "stdout",
          "text": [
            "b\n"
          ]
        }
      ]
    },
    {
      "cell_type": "code",
      "source": [
        "# 10. Write a code to reverse the list [10, 20, 30, 40, 50].\n",
        "my_list = [10, 20, 30, 40, 50]\n",
        "my_list.reverse()\n",
        "print(my_list)"
      ],
      "metadata": {
        "colab": {
          "base_uri": "https://localhost:8080/"
        },
        "id": "LU9zKS7BgT7H",
        "outputId": "76fedcee-e40f-41c3-d1f8-c659d245860a"
      },
      "execution_count": null,
      "outputs": [
        {
          "output_type": "stream",
          "name": "stdout",
          "text": [
            "[50, 40, 30, 20, 10]\n"
          ]
        }
      ]
    },
    {
      "cell_type": "code",
      "source": [
        "# 11. Write a code to create a tuple with the elements 100, 200, 300 and print it.\n",
        "my_tuple = (100, 200, 300)\n",
        "print(my_tuple)"
      ],
      "metadata": {
        "id": "ET2cdBE4hB72",
        "colab": {
          "base_uri": "https://localhost:8080/"
        },
        "outputId": "d663fb9d-c27d-4b51-b11e-843fea01465c"
      },
      "execution_count": null,
      "outputs": [
        {
          "output_type": "stream",
          "name": "stdout",
          "text": [
            "(100, 200, 300)\n"
          ]
        }
      ]
    },
    {
      "cell_type": "code",
      "source": [
        "# 12. Write a code to access the second-to-last element of the tuple ('red', 'green', 'blue', 'yellow').\n",
        "my_tuple = ('red', 'green', 'blue', 'yellow')\n",
        "print(my_tuple[-2]) # second from last"
      ],
      "metadata": {
        "colab": {
          "base_uri": "https://localhost:8080/"
        },
        "id": "mz1AgdVwymvw",
        "outputId": "ac2d5654-466e-47f5-df41-f8affa2e4508"
      },
      "execution_count": null,
      "outputs": [
        {
          "output_type": "stream",
          "name": "stdout",
          "text": [
            "blue\n"
          ]
        }
      ]
    },
    {
      "cell_type": "code",
      "source": [
        "# 13. Write a code to find the minimum number in the tuple (10, 20, 5, 15).\n",
        "my_tuple = (10, 20, 5, 15)\n",
        "print(min(my_tuple))"
      ],
      "metadata": {
        "colab": {
          "base_uri": "https://localhost:8080/"
        },
        "id": "lE4VAxmzzYTJ",
        "outputId": "f70903ca-94da-4311-99f1-15f5b10c7f2f"
      },
      "execution_count": null,
      "outputs": [
        {
          "output_type": "stream",
          "name": "stdout",
          "text": [
            "5\n"
          ]
        }
      ]
    },
    {
      "cell_type": "code",
      "source": [
        "# 14. Write a code to find the index of the element \"cat\" in the tuple ('dog', 'cat', 'rabbit').\n",
        "my_tuple = (\"dog\", \"cat\", \"rabbit\")\n",
        "print(my_tuple.index(\"cat\"))"
      ],
      "metadata": {
        "colab": {
          "base_uri": "https://localhost:8080/"
        },
        "id": "-EcGbo6TztNx",
        "outputId": "858f5961-80f4-49b1-8c8a-8a6d745f1e3b"
      },
      "execution_count": null,
      "outputs": [
        {
          "output_type": "stream",
          "name": "stdout",
          "text": [
            "1\n"
          ]
        }
      ]
    },
    {
      "cell_type": "code",
      "source": [
        "# 15. Write a code to create a tuple containing three different fruits and check if \"kiwi\" is in it.\n",
        "my_tuple = (\"apple\", \"banana\", 'mango')\n",
        "if \"kiwi\" in my_tuple:\n",
        "  print(\"kiwi is present\")\n",
        "else:\n",
        "  print(\"Not present\")"
      ],
      "metadata": {
        "colab": {
          "base_uri": "https://localhost:8080/"
        },
        "id": "RVvizZq20RLW",
        "outputId": "41aa8f36-f6bd-4334-e4b0-c7d9904d89d0"
      },
      "execution_count": null,
      "outputs": [
        {
          "output_type": "stream",
          "name": "stdout",
          "text": [
            "Not present\n"
          ]
        }
      ]
    },
    {
      "cell_type": "code",
      "source": [
        "# 16. Write a code to create a set with the elements 'a', 'b', 'c' and print it.\n",
        "s = {\"a\", \"b\", \"c\"}\n",
        "print(s)"
      ],
      "metadata": {
        "colab": {
          "base_uri": "https://localhost:8080/"
        },
        "id": "isL4YFzs0r9v",
        "outputId": "6c25dabc-13db-43eb-9a99-94a5e39533c0"
      },
      "execution_count": null,
      "outputs": [
        {
          "output_type": "stream",
          "name": "stdout",
          "text": [
            "{'a', 'b', 'c'}\n"
          ]
        }
      ]
    },
    {
      "cell_type": "code",
      "source": [
        "# 17. Write a code to clear all elements from the set {1, 2, 3, 4, 5}.\n",
        "s = {1, 2, 3, 4, 5}\n",
        "s.clear()\n",
        "print(s)"
      ],
      "metadata": {
        "colab": {
          "base_uri": "https://localhost:8080/"
        },
        "id": "B4GxbHE207SO",
        "outputId": "3ff7b639-259f-49ac-cd62-7537d315d14f"
      },
      "execution_count": null,
      "outputs": [
        {
          "output_type": "stream",
          "name": "stdout",
          "text": [
            "set()\n"
          ]
        }
      ]
    },
    {
      "cell_type": "code",
      "source": [
        "# 18. Write a code to remove the element 4 from the set {1, 2, 3, 4}.\n",
        "s = {1, 2, 3, 4}\n",
        "s.remove(4)\n",
        "print(s)"
      ],
      "metadata": {
        "colab": {
          "base_uri": "https://localhost:8080/"
        },
        "id": "Yom8g-2k1FD3",
        "outputId": "dac1f0ce-0464-41da-8aab-03fa95a8319a"
      },
      "execution_count": null,
      "outputs": [
        {
          "output_type": "stream",
          "name": "stdout",
          "text": [
            "{1, 2, 3}\n"
          ]
        }
      ]
    },
    {
      "cell_type": "code",
      "source": [
        "# 19. Write a code to find the union of two sets {1, 2, 3} and {3, 4, 5}.\n",
        "s1 = {1, 2, 3}\n",
        "s2 = {3, 4, 5}\n",
        "s3 = s1.union(s2)\n",
        "print(s3)"
      ],
      "metadata": {
        "colab": {
          "base_uri": "https://localhost:8080/"
        },
        "id": "0r83P0-_3fhn",
        "outputId": "4bd20411-6953-455d-bf7c-250bce2afff8"
      },
      "execution_count": null,
      "outputs": [
        {
          "output_type": "stream",
          "name": "stdout",
          "text": [
            "{1, 2, 3, 4, 5}\n"
          ]
        }
      ]
    },
    {
      "cell_type": "code",
      "source": [
        "# 20. Write a code to find the intersection of two sets {1, 2, 3} and {2, 3, 4}.\n",
        "s1 = {1, 2, 3}\n",
        "s2 = {2, 3, 4}\n",
        "s3 = s1.intersection(s2)\n",
        "print(s3)"
      ],
      "metadata": {
        "colab": {
          "base_uri": "https://localhost:8080/"
        },
        "id": "C0wrbj6N30gH",
        "outputId": "3c9118ea-e2ac-47bd-f6a5-b57c990f9223"
      },
      "execution_count": null,
      "outputs": [
        {
          "output_type": "stream",
          "name": "stdout",
          "text": [
            "{2, 3}\n"
          ]
        }
      ]
    },
    {
      "cell_type": "code",
      "source": [
        "# 21. Write a code to create a dictionary with the keys \"name\", \"age\", and \"city\", and print it.\n",
        "my_dict = {\"name\" : \"Manmit\", \"age\" : 18, \"city\" : \"Mumbai\"}\n",
        "print(my_dict)"
      ],
      "metadata": {
        "colab": {
          "base_uri": "https://localhost:8080/"
        },
        "id": "kA2t42_L39VP",
        "outputId": "8d068514-7111-4a93-8142-21debf21980a"
      },
      "execution_count": null,
      "outputs": [
        {
          "output_type": "stream",
          "name": "stdout",
          "text": [
            "{'name': 'Manmit', 'age': 18, 'city': 'Mumbai'}\n"
          ]
        }
      ]
    },
    {
      "cell_type": "code",
      "source": [
        "# 22. Write a code to add a new key-value pair \"country\": \"USA\" to the dictionary {'name': 'John', 'age': 25}.\n",
        "my_dict = {\"name\" : \"John\", \"age\" : 25}\n",
        "my_dict[\"country\"] = \"USA\"\n",
        "print(my_dict)"
      ],
      "metadata": {
        "colab": {
          "base_uri": "https://localhost:8080/"
        },
        "id": "V5n3N0Hj4ODu",
        "outputId": "6b66cb11-29a7-4cca-e38b-4f63a58f56a4"
      },
      "execution_count": null,
      "outputs": [
        {
          "output_type": "stream",
          "name": "stdout",
          "text": [
            "{'name': 'John', 'age': 25, 'country': 'USA'}\n"
          ]
        }
      ]
    },
    {
      "cell_type": "code",
      "source": [
        "# 23. Write a code to access the value associated with the key \"name\" in the dictionary {'name': 'Alice', 'age': 30}.\n",
        "my_dict = {'name': 'Alice', 'age': 30}\n",
        "print(my_dict[\"name\"])"
      ],
      "metadata": {
        "colab": {
          "base_uri": "https://localhost:8080/"
        },
        "id": "U3nhPNZ641cH",
        "outputId": "9c579fbf-f85c-45fc-e5ef-20645442ff0d"
      },
      "execution_count": null,
      "outputs": [
        {
          "output_type": "stream",
          "name": "stdout",
          "text": [
            "Alice\n"
          ]
        }
      ]
    },
    {
      "cell_type": "code",
      "source": [
        "# 24. Write a code to remove the key \"age\" from the dictionary {'name': 'Bob', 'age': 22, 'city': 'New York'}.\n",
        "my_dict = {'name': 'Bob', 'age': 22, 'city': 'New York'}\n",
        "my_dict.pop(\"age\")\n",
        "# del my_dict[\"age\"]\n",
        "print(my_dict)"
      ],
      "metadata": {
        "colab": {
          "base_uri": "https://localhost:8080/"
        },
        "id": "gXRqkuit5G5h",
        "outputId": "8f21a3bf-0661-4ac2-85e7-bec60ed6e5f6"
      },
      "execution_count": null,
      "outputs": [
        {
          "output_type": "stream",
          "name": "stdout",
          "text": [
            "{'name': 'Bob', 'city': 'New York'}\n"
          ]
        }
      ]
    },
    {
      "cell_type": "code",
      "source": [
        "# 25. Write a code to check if the key \"city\" exists in the dictionary {'name': 'Alice', 'city': 'Paris'}\n",
        "my_dict = {'name': 'Alice', 'city': 'Paris'}\n",
        "if (\"city\" in my_dict):\n",
        "  print(\"Is present.\")\n",
        "else:\n",
        "  print(\"Not present.\")"
      ],
      "metadata": {
        "colab": {
          "base_uri": "https://localhost:8080/"
        },
        "id": "j7gGgfcg5rjH",
        "outputId": "ec04072f-c323-4ce7-9f11-e7daf01ae62a"
      },
      "execution_count": null,
      "outputs": [
        {
          "output_type": "stream",
          "name": "stdout",
          "text": [
            "Is present.\n"
          ]
        }
      ]
    },
    {
      "cell_type": "code",
      "source": [
        "# 26. Write a code to create a list, a tuple, and a dictionary, and print them all.\n",
        "my_list = [\"hello\", \"pw\", \"data science\"]\n",
        "my_tuple = (23, [23, 45], \"ALien\")\n",
        "my_dict = {\"name\" : \"John\", \"age\" : 25}\n",
        "\n",
        "print(my_list)\n",
        "print(my_tuple)\n",
        "print(my_dict)"
      ],
      "metadata": {
        "colab": {
          "base_uri": "https://localhost:8080/"
        },
        "id": "i2Xkv7cl5-zf",
        "outputId": "7dcb5e94-6d31-4337-ae86-9d05d2eb4801"
      },
      "execution_count": null,
      "outputs": [
        {
          "output_type": "stream",
          "name": "stdout",
          "text": [
            "['hello', 'pw', 'data science']\n",
            "(23, [23, 45], 'ALien')\n",
            "{'name': 'John', 'age': 25}\n"
          ]
        }
      ]
    },
    {
      "cell_type": "code",
      "source": [
        "# 27. Write a code to create a list of 5 random numbers between 1 and 100, sort it in ascending order, and print the result.(replaced)\n",
        "from random import randint # imported \"randint\" fn from \"random\" module\n",
        "\n",
        "random_numbers = [randint(1, 100) for i in range(1, 6)] # I used list comprehension\n",
        "print(random_numbers) # unsorted\n",
        "random_numbers.sort()\n",
        "print(random_numbers) # sorted"
      ],
      "metadata": {
        "colab": {
          "base_uri": "https://localhost:8080/"
        },
        "id": "vzbk9YQX6oy7",
        "outputId": "542f0b51-c788-400b-92ca-a72798e6534d"
      },
      "execution_count": null,
      "outputs": [
        {
          "output_type": "stream",
          "name": "stdout",
          "text": [
            "[60, 70, 82, 38, 24]\n",
            "[24, 38, 60, 70, 82]\n"
          ]
        }
      ]
    },
    {
      "cell_type": "code",
      "source": [
        "# 28. Write a code to create a list with strings and print the element at the third index.\n",
        "my_list = [\"Hello\", \"this\", \"is\", \"Manmit\"]\n",
        "print(my_list[3])"
      ],
      "metadata": {
        "colab": {
          "base_uri": "https://localhost:8080/"
        },
        "id": "cUJes4h98QRZ",
        "outputId": "50a27419-eb6e-49b2-d810-2266aa4f96cc"
      },
      "execution_count": null,
      "outputs": [
        {
          "output_type": "stream",
          "name": "stdout",
          "text": [
            "Manmit\n"
          ]
        }
      ]
    },
    {
      "cell_type": "code",
      "source": [
        "# 29. Write a code to combine two dictionaries into one and print the result.\n",
        "dict1 = {\"name\" : \"Manmit\", \"age\" : 18, \"city\" : \"Mumbai\"}\n",
        "dict2 = {\"institute\" : \"pw\", \"course\" : \"data science\", \"language\" : \"Python\"}\n",
        "combinedDictionary = dict1.copy()\n",
        "combinedDictionary.update(dict2)\n",
        "print(combinedDictionary)"
      ],
      "metadata": {
        "colab": {
          "base_uri": "https://localhost:8080/"
        },
        "id": "JSiR4idT8_6v",
        "outputId": "e6f67086-de48-4d46-bbac-a7d037d4e389"
      },
      "execution_count": null,
      "outputs": [
        {
          "output_type": "stream",
          "name": "stdout",
          "text": [
            "{'name': 'Manmit', 'age': 18, 'city': 'Mumbai', 'institute': 'pw', 'course': 'data science', 'language': 'Python'}\n"
          ]
        }
      ]
    },
    {
      "cell_type": "code",
      "source": [
        "# 30. Write a code to convert a list of strings into a set.\n",
        "s = set[\"hello\", \"guys\"]\n",
        "print(s)"
      ],
      "metadata": {
        "colab": {
          "base_uri": "https://localhost:8080/"
        },
        "id": "NL7NZYml-Big",
        "outputId": "efcf1446-b891-4b25-b91f-deb5bede2baf"
      },
      "execution_count": null,
      "outputs": [
        {
          "output_type": "stream",
          "name": "stdout",
          "text": [
            "set['hello', 'guys']\n"
          ]
        }
      ]
    }
  ]
}
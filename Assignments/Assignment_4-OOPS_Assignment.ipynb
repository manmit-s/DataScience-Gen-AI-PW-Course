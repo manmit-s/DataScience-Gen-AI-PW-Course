{
  "nbformat": 4,
  "nbformat_minor": 0,
  "metadata": {
    "colab": {
      "provenance": []
    },
    "kernelspec": {
      "name": "python3",
      "display_name": "Python 3"
    },
    "language_info": {
      "name": "python"
    }
  },
  "cells": [
    {
      "cell_type": "markdown",
      "source": [
        "1. What is Object-Oriented Programming (OOP)?\n",
        "\n",
        "- OOP is a programming paradigm based on the concept of \"objects\" that contain data (attributes) and code (methods) to manipulate that data. It emphasizes code reuse, modularity, and abstraction.\n",
        "\n",
        "---\n",
        "\n",
        "2. What is a class in OOP?\n",
        "\n",
        "* A class is a blueprint or template for creating objects. It defines the structure and behavior (methods) that the objects created from it will have.\n",
        "\n",
        "---\n",
        "\n",
        "3. What is an object in OOP?\n",
        "\n",
        "* An object is an instance of a class. It has a unique identity, state (attributes), and behavior (methods).\n",
        "\n",
        "---\n",
        "\n",
        "4. What is the difference between abstraction and encapsulation?\n",
        "\n",
        "* Abstraction hides complexity by showing only essential details.\n",
        "* Encapsulation hides internal object details by bundling data and methods within a class and restricting direct access using access modifiers.\n",
        "\n",
        "---\n",
        "\n",
        "5. What are dunder methods in Python?\n",
        "\n",
        "* Dunder methods (short for \"double underscore\") like `__init__`, `__str__`, `__len__` are special methods with double underscores used to customize behavior of objects.\n",
        "\n",
        "---\n",
        "\n",
        "6. Explain the concept of inheritance in OOP\n",
        "\n",
        "* Inheritance allows a class to acquire properties and methods of another class. This supports code reuse and logical hierarchy.\n",
        "\n",
        "---\n",
        "\n",
        "7. What is polymorphism in OOP?\n",
        "\n",
        "* Polymorphism means \"many forms\". It allows different classes to be treated as instances of the same class through a common interface, enabling method overriding and dynamic behavior.\n",
        "\n",
        "---\n",
        "\n",
        "8. How is encapsulation achieved in Python?\n",
        "\n",
        "* Encapsulation is achieved using private (`__var`), protected (`_var`), and public (`var`) access specifiers and by creating getters/setters to control access to data.\n",
        "\n",
        "---\n",
        "\n",
        "9. What is a constructor in Python?\n",
        "\n",
        "* A constructor is a special method named `__init__` that is automatically called when an object is created to initialize its attributes.\n",
        "\n",
        "---\n",
        "\n",
        "10. What are class and static methods in Python?\n",
        "\n",
        "* Class methods use `@classmethod` and take `cls` as the first parameter; they work with class-level data.\n",
        "* Static methods use `@staticmethod` and do not take `self` or `cls`; they behave like regular functions within the class namespace.\n",
        "\n",
        "---\n",
        "\n",
        "11. What is method overloading in Python?\n",
        "\n",
        "* Python doesn't support traditional method overloading. You can mimic it using default arguments or `*args` and `**args` to handle different argument combinations.\n",
        "\n",
        "---\n",
        "\n",
        "12. What is method overriding in OOP?\n",
        "\n",
        "* Method overriding is redefining a method from a base class in a derived class to change or extend its behavior.\n",
        "\n",
        "---\n",
        "\n",
        "13. What is a property decorator in Python?\n",
        "\n",
        "* `@property` is used to create read-only attributes or computed properties and allows methods to be accessed like attributes.\n",
        "\n",
        "---\n",
        "\n",
        "14. Why is polymorphism important in OOP?\n",
        "\n",
        "* Polymorphism enables flexibility and scalability by allowing different objects to be used interchangeably if they follow the same interface.\n",
        "\n",
        "---\n",
        "\n",
        "15. What is an abstract class in Python?\n",
        "\n",
        "* An abstract class is a class that cannot be instantiated and may contain abstract methods that must be implemented by subclasses. Defined using the `abc` module.\n",
        "\n",
        "---\n",
        "\n",
        "16. What are the advantages of OOP?\n",
        "\n",
        "* Code reusability, modularity, abstraction, encapsulation, easier maintenance, and better organization of complex programs.\n",
        "\n",
        "---\n",
        "\n",
        "17. What is the difference between a class variable and an instance variable?\n",
        "\n",
        "* Class variables are shared among all instances of a class.\n",
        "* Instance variables are unique to each object and defined inside the constructor.\n",
        "\n",
        "---\n",
        "\n",
        "18. What is multiple inheritance in Python?\n",
        "\n",
        "* Multiple inheritance allows a class to inherit from more than one base class. Python uses the Method Resolution Order (MRO) to handle conflicts.\n",
        "\n",
        "---\n",
        "\n",
        "19. Explain the purpose of `__str__` and `__repr__` methods in Python\n",
        "\n",
        "* `__str__` returns a user-friendly string representation of the object, used by `print()`.\n",
        "* `__repr__` returns an official string representation for debugging, ideally one that can recreate the object.\n",
        "\n",
        "---\n",
        "\n",
        "20. What is the significance of the `super()` function in Python?\n",
        "\n",
        "* `super()` is used to call methods of the parent class, useful for method overriding and cooperative multiple inheritance.\n",
        "\n",
        "---\n",
        "\n",
        "21. What is the significance of the `__del__` method in Python?\n",
        "\n",
        "* `__del__` is a destructor method called when an object is about to be destroyed. It’s used for cleanup, though its use is generally discouraged.\n",
        "\n",
        "---\n",
        "\n",
        "22. What is the difference between @staticmethod and @classmethod in Python?\n",
        "\n",
        "* `@staticmethod`: no access to class or instance (`self`, `cls`).\n",
        "* `@classmethod`: accesses the class (`cls`) and can modify class-level data.\n",
        "\n",
        "---\n",
        "\n",
        "23. How does polymorphism work in Python with inheritance?\n",
        "\n",
        "* Through method overriding: different subclasses can implement the same method differently. Python uses dynamic dispatch to call the correct method at runtime.\n",
        "\n",
        "---\n",
        "\n",
        "24. What is method chaining in Python OOP?\n",
        "\n",
        "* Method chaining allows multiple methods to be called on the same object in a single line by returning `self` from each method.\n",
        "\n",
        "---\n",
        "\n",
        "25. What is the purpose of the `__call__` method in Python?\n",
        "\n",
        "* The `__call__` method makes an object behave like a function, allowing it to be \"called\" using parentheses.\n",
        "\n",
        "---\n"
      ],
      "metadata": {
        "id": "AWHf8zO04AcT"
      }
    },
    {
      "cell_type": "code",
      "source": [
        "# 1. Create a parent class Animal with a method speak() that prints a generic message. Create a child class Dog that overrides the speak() method to print \"Bark!\".\n",
        "class Animal:\n",
        "  def speak(self):\n",
        "    print(\"I speak!\")\n",
        "\n",
        "class Dog(Animal):\n",
        "  def speak(self):\n",
        "    print(\"Bark!\")\n",
        "\n",
        "d = Dog()\n",
        "d.speak()"
      ],
      "metadata": {
        "colab": {
          "base_uri": "https://localhost:8080/"
        },
        "id": "2zj_7RCL7urF",
        "outputId": "b3feb65a-bb47-4261-c9a6-418bd88aae15"
      },
      "execution_count": 2,
      "outputs": [
        {
          "output_type": "stream",
          "name": "stdout",
          "text": [
            "Bark!\n"
          ]
        }
      ]
    },
    {
      "cell_type": "code",
      "source": [
        "# 2. Write a program to create an abstract class Shape with a method area(). Derive classes Circle and Rectangle from it and implement the area() method in both.\n",
        "from abc import ABC, abstractmethod\n",
        "import math\n",
        "\n",
        "class Shape(ABC):\n",
        "  @abstractmethod\n",
        "  def area(self):\n",
        "    pass\n",
        "\n",
        "class Circle(Shape):\n",
        "  def __init__(self, radius):\n",
        "    self.radius = radius\n",
        "\n",
        "  def area(self):\n",
        "    return math.pi*self.radius**2\n",
        "\n",
        "class Rectangle(Shape):\n",
        "  def __init__(self, length, breadth):\n",
        "    self.length = length\n",
        "    self.breadth = breadth\n",
        "\n",
        "  def area(self):\n",
        "    return self.length * self.breadth\n",
        "\n",
        "c = Circle(4)\n",
        "print(c.area())\n",
        "\n",
        "r = Rectangle(4, 5)\n",
        "print(r.area())\n"
      ],
      "metadata": {
        "colab": {
          "base_uri": "https://localhost:8080/"
        },
        "id": "Cv4AteSO8wMD",
        "outputId": "11309dfd-7e21-4f1e-f601-5cefbaf9e8ac"
      },
      "execution_count": 5,
      "outputs": [
        {
          "output_type": "stream",
          "name": "stdout",
          "text": [
            "50.26548245743669\n",
            "20\n"
          ]
        }
      ]
    },
    {
      "cell_type": "code",
      "source": [
        "# 3. Implement a multi-level inheritance scenario where a class Vehicle has an attribute type. Derive a class Car and further derive a class ElectricCar that adds a battery attribute.\n",
        "\n",
        "class Vehicle:\n",
        "  def __init__(self, name, mileage):\n",
        "    self.name = name\n",
        "    self.mileage  = mileage\n",
        "\n",
        "class Car(Vehicle):\n",
        "  def showType(self):\n",
        "    print(f\"I am {self.name} which has {self.mileage} mileage.\")\n",
        "\n",
        "class ElectricCar(Car):\n",
        "  def __init__(self, name, mileage, battery):\n",
        "    super().__init__(name, mileage)\n",
        "    self.battery = battery\n",
        "\n",
        "  def showType(self):\n",
        "    print(f\"I am {self.name} which has {self.mileage} mileage and a battery capacity of {self.battery}W.\")\n",
        "\n",
        "car = Car(\"Honda\", 120)\n",
        "car.showType()\n",
        "\n",
        "ev = ElectricCar(\"Tesla\", 100, 120)\n",
        "ev.showType()\n",
        ""
      ],
      "metadata": {
        "colab": {
          "base_uri": "https://localhost:8080/"
        },
        "id": "74xXe1I0_0Fn",
        "outputId": "ba9d0061-9f3b-4064-a01a-28c65c80ec77"
      },
      "execution_count": 6,
      "outputs": [
        {
          "output_type": "stream",
          "name": "stdout",
          "text": [
            "I am Honda which has 120 mileage.\n",
            "I am Tesla which has 100 mileage and a battery capacity of 120W.\n"
          ]
        }
      ]
    },
    {
      "cell_type": "code",
      "source": [
        "# 4. Demonstrate polymorphism by creating a base class Bird with a method fly(). Create two derived classes Sparrow and Penguin that override the fly() method.\n",
        "class Bird:\n",
        "  def fly(self):\n",
        "    pass\n",
        "\n",
        "class Sparrow:\n",
        "  def fly(self):\n",
        "    print(\"I fly!\")\n",
        "\n",
        "class Penguin:\n",
        "  def fly(self):\n",
        "    print(\"I don't fly!\")\n",
        "\n",
        "def birdAction(bird):\n",
        "  bird.fly()\n",
        "\n",
        "s = Sparrow()\n",
        "p = Penguin()\n",
        "\n",
        "birdAction(s)\n",
        "birdAction(p)"
      ],
      "metadata": {
        "colab": {
          "base_uri": "https://localhost:8080/"
        },
        "id": "Ak_AswAuCNU8",
        "outputId": "2e5cb267-871a-433d-d7e5-58bd7b527efb"
      },
      "execution_count": 7,
      "outputs": [
        {
          "output_type": "stream",
          "name": "stdout",
          "text": [
            "I fly!\n",
            "I don't fly!\n"
          ]
        }
      ]
    },
    {
      "cell_type": "code",
      "source": [
        "# 5. Write a program to demonstrate encapsulation by creating a class BankAccount with private attributes balance and methods to deposit, withdraw, and check balance.\n",
        "class BankAccount:\n",
        "  def __init__(self, balance):\n",
        "    self.__balance = balance\n",
        "\n",
        "  def deposit(self, amount):\n",
        "    if(amount > 0):\n",
        "      self.__balance += amount\n",
        "      print(f\"Money deposited successfully!, New Balance {self.__balance}\")\n",
        "    else:\n",
        "      print(\"Invalid amount, try again!\")\n",
        "\n",
        "  def withdrawal(self, amount):\n",
        "    if(0 < amount < self.__balance):\n",
        "      self.__balance -= amount\n",
        "      print(f\"Money withdrawed, New balance {self.__balance}.\")\n",
        "    else:\n",
        "      print(\"Insufficient balance!\")\n",
        "\n",
        "person = BankAccount(4000)\n",
        "person.deposit(500)\n",
        "person.withdrawal(300)"
      ],
      "metadata": {
        "colab": {
          "base_uri": "https://localhost:8080/"
        },
        "id": "WtNxLkyHERTM",
        "outputId": "f6a0e31e-0903-42b4-c630-e29092d0cb09"
      },
      "execution_count": 12,
      "outputs": [
        {
          "output_type": "stream",
          "name": "stdout",
          "text": [
            "Money deposited successfully!, New Balance 4500\n",
            "Money withdrawed, New balance 4200.\n"
          ]
        }
      ]
    },
    {
      "cell_type": "code",
      "source": [
        "# 6. Demonstrate runtime polymorphism using a method play() in a base class Instrument. Derive classes Guitar and Piano that implement their own version of play().\n",
        "class Instrument:\n",
        "  def play(self):\n",
        "    pass\n",
        "\n",
        "class Guitar(Instrument):\n",
        "  def play(self):\n",
        "    print(\"I play through strings.\")\n",
        "\n",
        "class Piano(Instrument):\n",
        "  def play(self):\n",
        "    print(\"I play through keys.\")\n",
        "\n",
        "def playType(instrument):\n",
        "  instrument.play()\n",
        "\n",
        "guitar = Guitar()\n",
        "piano = Piano()\n",
        "\n",
        "playType(guitar)\n",
        "playType(piano)"
      ],
      "metadata": {
        "colab": {
          "base_uri": "https://localhost:8080/"
        },
        "id": "FvOKUzX5HIZU",
        "outputId": "ce2a4da5-0afe-493e-fa31-dfd23d02cac8"
      },
      "execution_count": 13,
      "outputs": [
        {
          "output_type": "stream",
          "name": "stdout",
          "text": [
            "I play through strings.\n",
            "I play through keys.\n"
          ]
        }
      ]
    },
    {
      "cell_type": "code",
      "source": [
        "# 7. Create a class MathOperations with a class method add_numbers() to add two numbers and a static method subtract_numbers() to subtract two numbers.\n",
        "class MathOperations:\n",
        "  @classmethod\n",
        "  def addNumbers(cls, num1, num2):\n",
        "    return num1 + num2\n",
        "\n",
        "  @staticmethod\n",
        "  def subNumbers(num1, num2):\n",
        "    return num1 - num2\n",
        "\n",
        "o = MathOperations()\n",
        "print(o.addNumbers(12, 6))\n",
        "print(o.subNumbers(6, 4))"
      ],
      "metadata": {
        "colab": {
          "base_uri": "https://localhost:8080/"
        },
        "id": "eQ6Sg2vDIHuM",
        "outputId": "8e7073f8-5a21-49e6-ca9b-65af4efadf4d"
      },
      "execution_count": 14,
      "outputs": [
        {
          "output_type": "stream",
          "name": "stdout",
          "text": [
            "18\n",
            "2\n"
          ]
        }
      ]
    },
    {
      "cell_type": "code",
      "source": [
        "# 8. Implement a class Person with a class method to count the total number of persons created.\n",
        "class Person:\n",
        "  count = 0\n",
        "  def __init__(self):\n",
        "    Person.count += 1\n",
        "\n",
        "  @classmethod\n",
        "  def getCount(cls):\n",
        "    return cls.count\n",
        "\n",
        "p1 = Person()\n",
        "p2 = Person()\n",
        "p3 = Person()\n",
        "p4 = Person()\n",
        "\n",
        "print(Person.getCount())"
      ],
      "metadata": {
        "colab": {
          "base_uri": "https://localhost:8080/"
        },
        "id": "qSnSLeXyMgY1",
        "outputId": "8e0b5b64-6961-4421-dd7b-d07ddf30815c"
      },
      "execution_count": 18,
      "outputs": [
        {
          "output_type": "stream",
          "name": "stdout",
          "text": [
            "4\n"
          ]
        }
      ]
    },
    {
      "cell_type": "code",
      "source": [
        "# 9. Write a class Fraction with attributes numerator and denominator. Override the str method to display the fraction as \"numerator/denominator\".\n",
        "class Fraction:\n",
        "  def __init__(self, numerator, denominator):\n",
        "    self.numerator = numerator\n",
        "    self.denominator = denominator\n",
        "\n",
        "  def __str__(self):\n",
        "    return f\"{self.numerator}/{self.denominator}\"\n",
        "\n",
        "myFraction = Fraction(3, 4)\n",
        "print(myFraction)"
      ],
      "metadata": {
        "colab": {
          "base_uri": "https://localhost:8080/"
        },
        "id": "G5QVGdWdOLU6",
        "outputId": "7314d1c0-a70e-4dd4-b676-fff94d154cf4"
      },
      "execution_count": 19,
      "outputs": [
        {
          "output_type": "stream",
          "name": "stdout",
          "text": [
            "3/4\n"
          ]
        }
      ]
    },
    {
      "cell_type": "code",
      "source": [
        "# 10. Demonstrate operator overloading by creating a class Vector and overriding the add method to add two vectors.\n",
        "class Vector:\n",
        "  def __init__(self, x, y):\n",
        "    self.x = x\n",
        "    self.y = y\n",
        "\n",
        "  def __str__(self):\n",
        "    return f\"{self.x}i + {self.y}j\"\n",
        "\n",
        "  def __add__(self, other):\n",
        "    new_x = self.x + other.x\n",
        "    new_y = self.y + other.y\n",
        "    return Vector(new_x, new_y)\n",
        "\n",
        "v1 = Vector(3, 4)\n",
        "v2 = Vector(12, 13)\n",
        "\n",
        "vector_sum = v1 + v2\n",
        "print(vector_sum)"
      ],
      "metadata": {
        "colab": {
          "base_uri": "https://localhost:8080/"
        },
        "id": "cBRYFOG_RPIG",
        "outputId": "314bde33-c538-419c-ad69-c0bf73a72fd6"
      },
      "execution_count": 33,
      "outputs": [
        {
          "output_type": "stream",
          "name": "stdout",
          "text": [
            "15i + 17j\n"
          ]
        }
      ]
    },
    {
      "cell_type": "code",
      "source": [
        "# 11. Create a class Person with attributes name and age. Add a method greet() that prints \"Hello, my name is {name} and I am {age} years old.\"\n",
        "class Person:\n",
        "  def __init__(self, name, age):\n",
        "    self.name = name\n",
        "    self.age = age\n",
        "\n",
        "  def greet(self):\n",
        "    print(f\"Hello, my name is {self.name} and I am {self.age} years old.\")\n",
        "\n",
        "p1 = Person(\"Manmit\", 18)\n",
        "p1.greet()"
      ],
      "metadata": {
        "colab": {
          "base_uri": "https://localhost:8080/"
        },
        "id": "UBIHawTSVs4u",
        "outputId": "61590377-b35d-4a57-b885-4e500f9b2902"
      },
      "execution_count": 29,
      "outputs": [
        {
          "output_type": "stream",
          "name": "stdout",
          "text": [
            "Hello, my name is Manmit and I am 18 years old.\n"
          ]
        }
      ]
    },
    {
      "cell_type": "code",
      "source": [
        "# 12. Implement a class Student with attributes name and grades. Create a method average_grade() to compute the average of the grades.\n",
        "class Student:\n",
        "  def __init__(self, name, grades):\n",
        "    self.name = name\n",
        "    self.grades = grades\n",
        "\n",
        "  def average_grade(self):\n",
        "    if not self.grades:\n",
        "      return 0\n",
        "\n",
        "    total_grade = sum(self.grades)\n",
        "    num_grades  = len(self.grades)\n",
        "\n",
        "    return total_grade/num_grades\n",
        "\n",
        "s1 = Student(\"Manmit\", [90, 89, 92])\n",
        "s2 = Student(\"Jake\", [97, 84, 80])\n",
        "\n",
        "print(s1.average_grade())\n",
        "print(s2.average_grade())"
      ],
      "metadata": {
        "colab": {
          "base_uri": "https://localhost:8080/"
        },
        "id": "1RSo8RGoWZWU",
        "outputId": "feefc8aa-a85d-42c0-a8b7-f5162ad6c321"
      },
      "execution_count": 3,
      "outputs": [
        {
          "output_type": "stream",
          "name": "stdout",
          "text": [
            "90.33333333333333\n",
            "87.0\n"
          ]
        }
      ]
    },
    {
      "cell_type": "code",
      "source": [
        "# 13. Create a class Rectangle with methods set_dimensions() to set the dimensions and area() to calculate the area.\n",
        "class Rectangle:\n",
        "  def __init__(self, length, breadth):\n",
        "    self.length = length\n",
        "    self.breadth = breadth\n",
        "\n",
        "  def set_dimensions(self, length, breadth):\n",
        "    self.length = length\n",
        "    self.breadth = breadth\n",
        "\n",
        "  def area(self):\n",
        "    return self.length * self.breadth\n",
        "\n",
        "r = Rectangle(3, 4)\n",
        "\n",
        "print(r.area())"
      ],
      "metadata": {
        "colab": {
          "base_uri": "https://localhost:8080/"
        },
        "id": "fvBNmC0jaBmf",
        "outputId": "42bf199a-24b3-4dc7-b0c9-082705875ac4"
      },
      "execution_count": 5,
      "outputs": [
        {
          "output_type": "stream",
          "name": "stdout",
          "text": [
            "12\n"
          ]
        }
      ]
    },
    {
      "cell_type": "code",
      "source": [
        "# 14. Create a class Employee with a method calculate_salary() that computes the salary based on hours worked and hourly rate. Create a derived class Manager that adds a bonus to the salary.\n",
        "class Employee:\n",
        "  def __init__(self, name, hours_worked):\n",
        "    self.name = name\n",
        "    self.hours_worked = hours_worked\n",
        "\n",
        "  def calculate_salary(self, rate):\n",
        "    return self.hours_worked*rate\n",
        "\n",
        "class Manager(Employee):\n",
        "  def calculate_bonus(self, rate, bonus):\n",
        "    base_salary = super().calculate_salary(rate)\n",
        "    return base_salary + bonus\n",
        "\n",
        "rate = 400 # 400rs per hour\n",
        "bonus = 100\n",
        "e1 = Employee(\"XYZ\", 8)\n",
        "print(e1.calculate_salary(rate))\n",
        "m1 = Manager(\"ABC\", 10)\n",
        "print(m1.calculate_bonus(rate, bonus))"
      ],
      "metadata": {
        "colab": {
          "base_uri": "https://localhost:8080/"
        },
        "id": "HDZQiSnwbcVu",
        "outputId": "498f9933-1f7d-43cd-e995-76840067c93e"
      },
      "execution_count": 12,
      "outputs": [
        {
          "output_type": "stream",
          "name": "stdout",
          "text": [
            "3200\n",
            "4100\n"
          ]
        }
      ]
    },
    {
      "cell_type": "code",
      "source": [
        "# 15. Create a class Product with attributes name, price, and quantity. Implement a method total_price() that calculates the total price of the product\n",
        "class Product:\n",
        "  def __init__(self, name, price, quantity):\n",
        "    self.name = name\n",
        "    self.price = price\n",
        "    self.quantity = quantity\n",
        "\n",
        "  def total_price(self):\n",
        "    return self.price*self.quantity\n",
        "\n",
        "p1 = Product(\"Rubiks Cube\", 400, 10)\n",
        "print(p1.total_price())"
      ],
      "metadata": {
        "colab": {
          "base_uri": "https://localhost:8080/"
        },
        "id": "WZtLRiTFw7b7",
        "outputId": "b67214b2-2ebe-4502-db08-30cf8e213567"
      },
      "execution_count": 13,
      "outputs": [
        {
          "output_type": "stream",
          "name": "stdout",
          "text": [
            "4000\n"
          ]
        }
      ]
    },
    {
      "cell_type": "code",
      "source": [
        "# 16. Create a class Animal with an abstract method sound(). Create two derived classes Cow and Sheep that implement the sound() method.\n",
        "from abc import ABC, abstractmethod\n",
        "class Animal:\n",
        "  @abstractmethod\n",
        "  def sound(self):\n",
        "    pass\n",
        "\n",
        "class Cow(Animal):\n",
        "  def sound(self):\n",
        "    print(\"Moo!\")\n",
        "\n",
        "class Sheep(Animal):\n",
        "  def sound(self):\n",
        "    print(\"Meh!\")\n",
        "\n",
        "c = Cow()\n",
        "s = Sheep()\n",
        "\n",
        "c.sound()\n",
        "s.sound()"
      ],
      "metadata": {
        "colab": {
          "base_uri": "https://localhost:8080/"
        },
        "id": "atwGGfv4yeez",
        "outputId": "92364077-8f89-4896-e70c-6908679d8098"
      },
      "execution_count": 17,
      "outputs": [
        {
          "output_type": "stream",
          "name": "stdout",
          "text": [
            "Moo!\n",
            "Meh!\n"
          ]
        }
      ]
    },
    {
      "cell_type": "code",
      "source": [
        "# 17. Create a class Book with attributes title, author, and year_published. Add a method get_book_info() that returns a formatted string with the book's details.\n",
        "class Book():\n",
        "  def __init__(self, title, author, year_published):\n",
        "    self.title = title\n",
        "    self.author = author\n",
        "    self.year_published = year_published\n",
        "\n",
        "  def get_book_info(self):\n",
        "    return f\"Title - {self.title}, Author - {self.author}, Publishing Year - {self.year_published}.\"\n",
        "\n",
        "b = Book(\"Harry Potter\", \"J.K Rowling\", 1997)\n",
        "print(b.get_book_info())"
      ],
      "metadata": {
        "colab": {
          "base_uri": "https://localhost:8080/"
        },
        "id": "eSLBdkaMzgr0",
        "outputId": "f3d76c24-a274-4f48-c28e-0f33ae15a337"
      },
      "execution_count": 19,
      "outputs": [
        {
          "output_type": "stream",
          "name": "stdout",
          "text": [
            "Title - Harry Potter, Author - J.K Rowling, Publishing Year - 1997.\n"
          ]
        }
      ]
    },
    {
      "cell_type": "code",
      "source": [
        "# 18. Create a class House with attributes address and price. Create a derived class Mansion that adds an attribute number_of_rooms.\n",
        "class House:\n",
        "  def __init__(self, address, price):\n",
        "    self.address = address\n",
        "    self.price = price\n",
        "\n",
        "  def show_details(self):\n",
        "    print(f\"Address - {self.address}, Price - {self.price}rupees\")\n",
        "\n",
        "class Mansion(House):\n",
        "  def __init__(self, address, price, num_of_rooms):\n",
        "    super().__init__(address, price)\n",
        "    self.num_of_rooms = num_of_rooms\n",
        "\n",
        "  def show_details(self):\n",
        "    print(f\"Address - {self.address}, Rooms number - {self.num_of_rooms}, Price - {self.price}Cr\")\n",
        "\n",
        "m = Mansion(\"Linkin Street no. 69, House no. 6\", 1.2, 4)\n",
        "m.show_details()"
      ],
      "metadata": {
        "colab": {
          "base_uri": "https://localhost:8080/"
        },
        "id": "na9JCaEV0vnh",
        "outputId": "96fdeba4-e8db-4ea2-b5f9-ad006e11918f"
      },
      "execution_count": 21,
      "outputs": [
        {
          "output_type": "stream",
          "name": "stdout",
          "text": [
            "Address - Linkin Street no. 69, House no. 6, Rooms number - 4, Price - 1.2Cr\n"
          ]
        }
      ]
    }
  ]
}
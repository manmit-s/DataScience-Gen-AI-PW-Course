{
  "nbformat": 4,
  "nbformat_minor": 0,
  "metadata": {
    "colab": {
      "provenance": []
    },
    "kernelspec": {
      "name": "python3",
      "display_name": "Python 3"
    },
    "language_info": {
      "name": "python"
    }
  },
  "cells": [
    {
      "cell_type": "markdown",
      "source": [
        "1. What is the difference between a function and a method in Python?\n",
        "  - Function: A function is a block of code that is defined independently and can be called from anywhere in your program. It doesn't belong to any specific object or class.\n",
        "  - Method: A method is a function that is associated with an object or a class. It is defined within a class definition and is called on an instance of that class. Methods can access and modify the object's attributes.\n",
        "----\n",
        "2. Explain the concept of function arguments and parameters in Python.\n",
        "  - Parameters: These are the names listed in the function definition. They act as placeholders for the values that will be passed into the function.\n",
        "  - Arguments: These are the actual values that are passed to the function when it is called.\n",
        "----\n",
        "3. What are the different ways to define and call a function in Python?\n",
        "  - Defining: You define a function using the def keyword, followed by the function name, parentheses for parameters, and a colon. The function body is indented.\n",
        "  - Calling: You call a function by using its name followed by parentheses, passing the necessary arguments inside the parentheses.\n",
        "----\n",
        "4. What is the purpose of the `return` statement in a Python function?\n",
        "  - Purpose of the return statement: The return statement is used to exit a function and send a value back to the caller. If a function doesn't have a return statement, it implicitly returns None.\n",
        "  - ```python\n",
        "  def multiply(x, y):\n",
        "        return x * y\n",
        "\n",
        "    product = multiply(4, 6) # The function returns 24, which is stored in product\n",
        "  ```\n",
        "----\n",
        "5. What are iterators in Python and how do they differ from iterables?\n",
        "  - Iterable: An object that can be iterated over. This means it can return its members one by one. Examples include lists, tuples, strings, and dictionaries. An iterable has an __iter__() method that returns an iterator.\n",
        "  - Iterator: An object that represents a stream of data. It produces the next value in the sequence when next() is called on it. An iterator has both __iter__() and __next__() methods. The __next__() method raises StopIteration when there are no more items.\n",
        "----\n",
        "6. Explain the concept of generators in Python and how they are defined.\n",
        "  - Generators are a simple and powerful tool for creating iterators. They are defined like regular functions, but instead of using the return statement, they use the yield statement. The yield statement pauses the function's execution and returns a value, maintaining the state of the function so it can resume from where it left off\n",
        "----\n",
        "7. What are the advantages of using generators over regular functions?\n",
        "  - Memory efficiency: Generators produce items one by one, so they don't need to store the entire sequence in memory, which is beneficial for large datasets.\n",
        "  - Performance: They can be more efficient than creating and iterating over a full list.\n",
        "  - Simplicity: They can simplify the code for creating iterators.\n",
        "----\n",
        "8. What is a lambda function in Python and when is it typically used?\n",
        "  - A lambda function (or anonymous function) is a small, single-expression function that can have any number of arguments but only one expression. They are typically used for short operations where a full function definition would be overly verbose.\n",
        "  -```python\n",
        "  multiply = lambda x, y: x * y\n",
        "    print(multiply(7, 8)) # Output: 56\n",
        "  ```\n",
        "----\n",
        "9.  Explain the purpose and usage of the `map()` function in Python.\n",
        "  - The map() function applies a given function to all items of an iterable (like a list) and returns an iterator that yields the results.\n",
        "----\n",
        "10. What is the difference between `map()`, `reduce()`, and `filter()` functions in Python?\n",
        "  - map(): Applies a function to each item in an iterable and returns a new iterable with the results. It transforms the elements.\n",
        "  - filter(): Creates an iterator from elements of an iterable for which a function returns True. It selects elements based on a condition.\n",
        "  - reduce(): (Needs to be imported from functools) Applies a function of two arguments cumulatively to the items of an iterable, from left to right, to reduce the iterable to a single value. It aggregates the elements.\n",
        "----\n",
        "11.  Using pen & Paper write the internal mechanism for sum operation using  reduce function on this given\n",
        "list:[47,11,42,13];\n",
        "![Alt Text](https://i.postimg.cc/zv46wC4S/IMG-20250613-001050.jpg)\n",
        "----\n",
        "\n"
      ],
      "metadata": {
        "id": "A4uzt7QhUNPj"
      }
    },
    {
      "cell_type": "code",
      "source": [
        "# 1. Write a Python function that takes a list of numbers as input and returns the sum of all even numbers in the list.\n",
        "\n",
        "def sumEven(l1):\n",
        "  sum = 0\n",
        "  for i in l1:\n",
        "    if(i % 2 == 0):\n",
        "      sum += i\n",
        "  return sum  #returns sum of even numbers\n",
        "\n",
        "my_list = [1, 2, 3, 4, 5, 6, 7, 8, 9, 10]\n",
        "even_sum = sumEven(my_list)\n",
        "print(f\"The sum of even numbers in the list is: {even_sum}\")"
      ],
      "metadata": {
        "colab": {
          "base_uri": "https://localhost:8080/"
        },
        "id": "of5KNlUmeFOg",
        "outputId": "a79db2cf-cc53-422a-f402-9aa3adf45251"
      },
      "execution_count": 3,
      "outputs": [
        {
          "output_type": "stream",
          "name": "stdout",
          "text": [
            "The sum of even numbers in the list is: 30\n"
          ]
        }
      ]
    },
    {
      "cell_type": "code",
      "source": [
        "# 2. Create a Python function that accepts a string and returns the reverse of that string.\n",
        "def revString(s):\n",
        "  return s[::-1]\n",
        "\n",
        "my_string = \"Hello Colab\"\n",
        "reversed_string = revString(my_string)\n",
        "print(f\"The reversed string is: {reversed_string}\")"
      ],
      "metadata": {
        "colab": {
          "base_uri": "https://localhost:8080/"
        },
        "id": "GSQU6O7jfAFT",
        "outputId": "9050b718-da23-490b-f154-b56a2b0bb836"
      },
      "execution_count": 4,
      "outputs": [
        {
          "output_type": "stream",
          "name": "stdout",
          "text": [
            "The reversed string is: baloC olleH\n"
          ]
        }
      ]
    },
    {
      "cell_type": "code",
      "source": [
        "from types import new_class\n",
        "# 3. Implement a Python function that takes a list of integers and returns a new list containing the squares of each number.\n",
        "def sqList(l2):\n",
        "  newList = list(map(lambda x: x**2, l2))\n",
        "  return newList\n",
        "\n",
        "my_numbers = [1, 2, 3, 4, 5]\n",
        "squared_numbers = sqList(my_numbers)\n",
        "print(f\"The list of squared numbers is: {squared_numbers}\")"
      ],
      "metadata": {
        "colab": {
          "base_uri": "https://localhost:8080/"
        },
        "id": "vmHZNHnFfhp8",
        "outputId": "00bb8bad-031e-47a0-ea84-63e8bf6412d5"
      },
      "execution_count": 5,
      "outputs": [
        {
          "output_type": "stream",
          "name": "stdout",
          "text": [
            "The list of squared numbers is: [1, 4, 9, 16, 25]\n"
          ]
        }
      ]
    },
    {
      "cell_type": "code",
      "source": [
        "# 4. Write a Python function that checks if a given number is prime or not from 1 to 200\n",
        "def isPrime(number):\n",
        "  if number <= 1:\n",
        "    return False\n",
        "  for i in range(2, int(number**0.5) + 1):\n",
        "    if number % i == 0:\n",
        "      return False\n",
        "  return True\n",
        "\n",
        "print(f\"Is 7 prime? {isPrime(7)}\")\n",
        "print(f\"Is 12 prime? {isPrime(12)}\")\n",
        "print(f\"Is 199 prime? {isPrime(199)}\")"
      ],
      "metadata": {
        "colab": {
          "base_uri": "https://localhost:8080/"
        },
        "id": "Sqa5eaEYgm4s",
        "outputId": "8a3b6ec1-9e61-4477-e048-20e8cb3c3292"
      },
      "execution_count": 6,
      "outputs": [
        {
          "output_type": "stream",
          "name": "stdout",
          "text": [
            "Is 7 prime? True\n",
            "Is 12 prime? False\n",
            "Is 199 prime? True\n"
          ]
        }
      ]
    },
    {
      "cell_type": "code",
      "source": [
        "# 5. Create an iterator class in Python that generates the Fibonacci sequence up to a specified number of terms.\n",
        "def fiboGenerator(numOfTerms):\n",
        "  a, b = 0, 1\n",
        "  count = 0\n",
        "  while count < numOfTerms:\n",
        "\n",
        "    if(count == 0):\n",
        "      yield a\n",
        "    elif(count == 1):\n",
        "      yield b\n",
        "    else:\n",
        "      a, b = b, a+b\n",
        "      yield b\n",
        "    count += 1\n",
        "\n",
        "fib_gen = fiboGenerator(10)\n",
        "# Iterate through the generated values\n",
        "for fib_num in fib_gen:\n",
        "    print(fib_num)\n"
      ],
      "metadata": {
        "colab": {
          "base_uri": "https://localhost:8080/"
        },
        "id": "GatC6soshsaQ",
        "outputId": "b8e03ea7-9bfd-435d-8d0d-cb8b663f8b46"
      },
      "execution_count": 2,
      "outputs": [
        {
          "output_type": "stream",
          "name": "stdout",
          "text": [
            "0\n",
            "1\n",
            "1\n",
            "2\n",
            "3\n",
            "5\n",
            "8\n",
            "13\n",
            "21\n",
            "34\n"
          ]
        }
      ]
    },
    {
      "cell_type": "code",
      "source": [
        "# 6. Write a generator function in Python that yields the powers of 2 up to a given exponent.\n",
        "def pow2(expo):\n",
        "  for i in range(expo + 1):\n",
        "    yield 2**i\n",
        "\n",
        "powers_of_2 = pow2(5)\n",
        "for power in powers_of_2:\n",
        "  print(power)"
      ],
      "metadata": {
        "colab": {
          "base_uri": "https://localhost:8080/"
        },
        "id": "c_Zhpq6DkU3V",
        "outputId": "2d831e9c-b164-4652-cb49-5d8f4cd2dc65"
      },
      "execution_count": 7,
      "outputs": [
        {
          "output_type": "stream",
          "name": "stdout",
          "text": [
            "1\n",
            "2\n",
            "4\n",
            "8\n",
            "16\n",
            "32\n"
          ]
        }
      ]
    },
    {
      "cell_type": "code",
      "source": [
        "# 7. Implement a generator function that reads a file line by line and yields each line as a string.\n",
        "def readLines(textContent):\n",
        "  lines = textContent.splitlines()\n",
        "  for line in lines:\n",
        "    yield line\n",
        "\n",
        "sampleFile = '''Data science is a dynamic field that combines computer science, statistics, and domain knowledge to extract meaningful insights from data. It involves collecting, cleaning, and analyzing large datasets to identify patterns and trends. Data scientists use various tools and algorithms to build models and make predictions. These insights are then used to inform decision-making and solve complex problems across different industries. Ultimately, data science aims to transform raw data into valuable, actionable knowledge.'''\n",
        "\n",
        "\n",
        "line_generator = readLines(sampleFile)\n",
        "\n",
        "print(\"Lines from the simulated file:\")\n",
        "# Iterate through the lines yielded by the generator\n",
        "for line in line_generator:\n",
        "  print(line)\n"
      ],
      "metadata": {
        "colab": {
          "base_uri": "https://localhost:8080/"
        },
        "id": "WCA2aOq1lhuO",
        "outputId": "7eb1b99d-a05c-4f47-c953-04120c2b6abe"
      },
      "execution_count": 8,
      "outputs": [
        {
          "output_type": "stream",
          "name": "stdout",
          "text": [
            "Lines from the simulated file:\n",
            "Data science is a dynamic field that combines computer science, statistics, and domain knowledge to extract meaningful insights from data. It involves collecting, cleaning, and analyzing large datasets to identify patterns and trends. Data scientists use various tools and algorithms to build models and make predictions. These insights are then used to inform decision-making and solve complex problems across different industries. Ultimately, data science aims to transform raw data into valuable, actionable knowledge.\n"
          ]
        }
      ]
    },
    {
      "cell_type": "code",
      "source": [
        "# 8. Use a lambda function in Python to sort a list of tuples based on the second element of each tuple.\n",
        "my_list_of_tuples = [(1, 'banana'), (3, 'apple'), (2, 'cherry'), (4, 'date')]\n",
        "\n",
        "print(\"Original list of tuples:\")\n",
        "print(my_list_of_tuples)\n",
        "\n",
        "\n",
        "sorted_list = sorted(my_list_of_tuples, key=lambda item: item[1])\n",
        "\n",
        "print(\"\\nSorted list of tuples based on the second element:\")\n",
        "print(sorted_list) #sorts alphabetically"
      ],
      "metadata": {
        "colab": {
          "base_uri": "https://localhost:8080/"
        },
        "id": "tgDfRqiCm05W",
        "outputId": "d45b9905-c0b3-4f8f-9319-7e4eac509e54"
      },
      "execution_count": 9,
      "outputs": [
        {
          "output_type": "stream",
          "name": "stdout",
          "text": [
            "Original list of tuples:\n",
            "[(1, 'banana'), (3, 'apple'), (2, 'cherry'), (4, 'date')]\n",
            "\n",
            "Sorted list of tuples based on the second element:\n",
            "[(3, 'apple'), (1, 'banana'), (2, 'cherry'), (4, 'date')]\n"
          ]
        }
      ]
    },
    {
      "cell_type": "code",
      "source": [
        "# 9. Write a Python program that uses `map()` to convert a list of temperatures from Celsius to Fahrenheit.\n",
        "def tempList(temperatures):\n",
        "  return (temperatures*1.8)+32\n",
        "\n",
        "l = [36, 50, 11, 0]\n",
        "fahTemp = map(tempList, l)\n",
        "print(list(fahTemp))"
      ],
      "metadata": {
        "colab": {
          "base_uri": "https://localhost:8080/"
        },
        "id": "CIbeMnhNnlNW",
        "outputId": "e8570132-111c-4550-df6a-96b433516e5f"
      },
      "execution_count": 12,
      "outputs": [
        {
          "output_type": "stream",
          "name": "stdout",
          "text": [
            "[96.8, 122.0, 51.8, 32.0]\n"
          ]
        }
      ]
    },
    {
      "cell_type": "code",
      "source": [
        "# 10. Create a Python program that uses `filter()` to remove all the vowels from a given string.\n",
        "s = \"Hello brothers\"\n",
        "vowels = \"aeiouAEIOU\"\n",
        "new_s_filter_object = filter(lambda x: x not in vowels, s)\n",
        "new_s = \"\".join(new_s_filter_object)\n",
        "print(new_s)"
      ],
      "metadata": {
        "colab": {
          "base_uri": "https://localhost:8080/"
        },
        "id": "RwqdUQmcoeeV",
        "outputId": "0f9f8a4e-5ae8-4670-c5bd-c660303f81cc"
      },
      "execution_count": 14,
      "outputs": [
        {
          "output_type": "stream",
          "name": "stdout",
          "text": [
            "Hll brthrs\n"
          ]
        }
      ]
    },
    {
      "cell_type": "code",
      "source": [
        "# 11.  Imagine an accounting routine used in a book shop. It works on a list with sublists, which look like this:\n",
        "# Write a Python program, which returns a list with 2-tuples. Each tuple consists of the order number and the\n",
        "# product of the price per item and the quantity. The product should be increased by 10,- € if the value of the\n",
        "# order is smaller than 100,00 €.\n",
        "# Write a Python program using lambda and map.\n",
        "orders = [\n",
        "    [34587, 'Learning Python, Mark Lutz', 4, 30.95],\n",
        "    [98762, 'Programming Python, Mark Lutz', 5, 56.80],\n",
        "    [77226, 'Head First Python, Paul Barry', 3, 32.95],\n",
        "    [88112, 'Einfuhrung in Python3, Bernd Klein', 3, 24.99],\n",
        "    ]\n",
        "\n",
        "processedOrders = list(map(\n",
        "    lambda order: (\n",
        "        order[0],  # Order number (index 0)\n",
        "        (order[2] * order[3]) + (10 if (order[2] * order[3]) < 100 else 0) # Calculated value with bonus\n",
        "    ),\n",
        "    orders\n",
        "))\n",
        "\n",
        "print(\"Original Orders:\")\n",
        "print(orders)\n",
        "\n",
        "print(\"\\nProcessed Orders (Order Number, Calculated Value):\")\n",
        "print(processedOrders)"
      ],
      "metadata": {
        "colab": {
          "base_uri": "https://localhost:8080/"
        },
        "id": "z-DjUL1jpg6G",
        "outputId": "caa87bcc-2075-48d7-fa89-f5332d32f7aa"
      },
      "execution_count": 16,
      "outputs": [
        {
          "output_type": "stream",
          "name": "stdout",
          "text": [
            "Original Orders:\n",
            "[[34587, 'Learning Python, Mark Lutz', 4, 30.95], [98762, 'Programming Python, Mark Lutz', 5, 56.8], [77226, 'Head First Python, Paul Barry', 3, 32.95], [88112, 'Einfuhrung in Python3, Bernd Klein', 3, 24.99]]\n",
            "\n",
            "Processed Orders (Order Number, Calculated Value):\n",
            "[(34587, 123.8), (98762, 284.0), (77226, 108.85000000000001), (88112, 84.97)]\n"
          ]
        }
      ]
    }
  ]
}